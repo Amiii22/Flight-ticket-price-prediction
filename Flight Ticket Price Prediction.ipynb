{
 "cells": [
  {
   "cell_type": "markdown",
   "id": "d3af10cd-f470-40a9-92d8-d18532544cdd",
   "metadata": {},
   "source": [
    "# Predict The Flight Ticket Price"
   ]
  },
  {
   "cell_type": "code",
   "execution_count": 2,
   "id": "0e44859f-4e06-44bf-9222-ff75fa409d81",
   "metadata": {},
   "outputs": [],
   "source": [
    "# Import necessary libraries\n",
    "import pandas as pd\n",
    "import numpy as np\n",
    "import matplotlib.pyplot as plt\n",
    "import warnings\n",
    "\n",
    "# Ignore warnings\n",
    "warnings.filterwarnings('ignore')"
   ]
  },
  {
   "cell_type": "code",
   "execution_count": 3,
   "id": "280a99aa-5e00-49de-af52-819191cb73d1",
   "metadata": {
    "scrolled": true
   },
   "outputs": [
    {
     "data": {
      "text/html": [
       "<div>\n",
       "<style scoped>\n",
       "    .dataframe tbody tr th:only-of-type {\n",
       "        vertical-align: middle;\n",
       "    }\n",
       "\n",
       "    .dataframe tbody tr th {\n",
       "        vertical-align: top;\n",
       "    }\n",
       "\n",
       "    .dataframe thead th {\n",
       "        text-align: right;\n",
       "    }\n",
       "</style>\n",
       "<table border=\"1\" class=\"dataframe\">\n",
       "  <thead>\n",
       "    <tr style=\"text-align: right;\">\n",
       "      <th></th>\n",
       "      <th>Airline</th>\n",
       "      <th>Date_of_Journey</th>\n",
       "      <th>Source</th>\n",
       "      <th>Destination</th>\n",
       "      <th>Route</th>\n",
       "      <th>Dep_Time</th>\n",
       "      <th>Arrival_Time</th>\n",
       "      <th>Duration</th>\n",
       "      <th>Total_Stops</th>\n",
       "      <th>Additional_Info</th>\n",
       "      <th>Price</th>\n",
       "    </tr>\n",
       "  </thead>\n",
       "  <tbody>\n",
       "    <tr>\n",
       "      <th>0</th>\n",
       "      <td>IndiGo</td>\n",
       "      <td>24/03/2019</td>\n",
       "      <td>Banglore</td>\n",
       "      <td>New Delhi</td>\n",
       "      <td>BLR → DEL</td>\n",
       "      <td>22:20</td>\n",
       "      <td>01:10 22 Mar</td>\n",
       "      <td>2h 50m</td>\n",
       "      <td>non-stop</td>\n",
       "      <td>No info</td>\n",
       "      <td>3897</td>\n",
       "    </tr>\n",
       "    <tr>\n",
       "      <th>1</th>\n",
       "      <td>Air India</td>\n",
       "      <td>1/05/2019</td>\n",
       "      <td>Kolkata</td>\n",
       "      <td>Banglore</td>\n",
       "      <td>CCU → IXR → BBI → BLR</td>\n",
       "      <td>05:50</td>\n",
       "      <td>13:15</td>\n",
       "      <td>7h 25m</td>\n",
       "      <td>2 stops</td>\n",
       "      <td>No info</td>\n",
       "      <td>7662</td>\n",
       "    </tr>\n",
       "    <tr>\n",
       "      <th>2</th>\n",
       "      <td>Jet Airways</td>\n",
       "      <td>9/06/2019</td>\n",
       "      <td>Delhi</td>\n",
       "      <td>Cochin</td>\n",
       "      <td>DEL → LKO → BOM → COK</td>\n",
       "      <td>09:25</td>\n",
       "      <td>04:25 10 Jun</td>\n",
       "      <td>19h</td>\n",
       "      <td>2 stops</td>\n",
       "      <td>No info</td>\n",
       "      <td>13882</td>\n",
       "    </tr>\n",
       "    <tr>\n",
       "      <th>3</th>\n",
       "      <td>IndiGo</td>\n",
       "      <td>12/05/2019</td>\n",
       "      <td>Kolkata</td>\n",
       "      <td>Banglore</td>\n",
       "      <td>CCU → NAG → BLR</td>\n",
       "      <td>18:05</td>\n",
       "      <td>23:30</td>\n",
       "      <td>5h 25m</td>\n",
       "      <td>1 stop</td>\n",
       "      <td>No info</td>\n",
       "      <td>6218</td>\n",
       "    </tr>\n",
       "    <tr>\n",
       "      <th>4</th>\n",
       "      <td>IndiGo</td>\n",
       "      <td>01/03/2019</td>\n",
       "      <td>Banglore</td>\n",
       "      <td>New Delhi</td>\n",
       "      <td>BLR → NAG → DEL</td>\n",
       "      <td>16:50</td>\n",
       "      <td>21:35</td>\n",
       "      <td>4h 45m</td>\n",
       "      <td>1 stop</td>\n",
       "      <td>No info</td>\n",
       "      <td>13302</td>\n",
       "    </tr>\n",
       "  </tbody>\n",
       "</table>\n",
       "</div>"
      ],
      "text/plain": [
       "       Airline Date_of_Journey    Source Destination                  Route  \\\n",
       "0       IndiGo      24/03/2019  Banglore   New Delhi              BLR → DEL   \n",
       "1    Air India       1/05/2019   Kolkata    Banglore  CCU → IXR → BBI → BLR   \n",
       "2  Jet Airways       9/06/2019     Delhi      Cochin  DEL → LKO → BOM → COK   \n",
       "3       IndiGo      12/05/2019   Kolkata    Banglore        CCU → NAG → BLR   \n",
       "4       IndiGo      01/03/2019  Banglore   New Delhi        BLR → NAG → DEL   \n",
       "\n",
       "  Dep_Time  Arrival_Time Duration Total_Stops Additional_Info  Price  \n",
       "0    22:20  01:10 22 Mar   2h 50m    non-stop         No info   3897  \n",
       "1    05:50         13:15   7h 25m     2 stops         No info   7662  \n",
       "2    09:25  04:25 10 Jun      19h     2 stops         No info  13882  \n",
       "3    18:05         23:30   5h 25m      1 stop         No info   6218  \n",
       "4    16:50         21:35   4h 45m      1 stop         No info  13302  "
      ]
     },
     "execution_count": 3,
     "metadata": {},
     "output_type": "execute_result"
    }
   ],
   "source": [
    "train=pd.read_excel('Data_Train.xlsx')\n",
    "train.head()"
   ]
  },
  {
   "cell_type": "code",
   "execution_count": 4,
   "id": "0d286e10-d231-4a31-956f-dfb0ab0afd07",
   "metadata": {},
   "outputs": [
    {
     "data": {
      "text/html": [
       "<div>\n",
       "<style scoped>\n",
       "    .dataframe tbody tr th:only-of-type {\n",
       "        vertical-align: middle;\n",
       "    }\n",
       "\n",
       "    .dataframe tbody tr th {\n",
       "        vertical-align: top;\n",
       "    }\n",
       "\n",
       "    .dataframe thead th {\n",
       "        text-align: right;\n",
       "    }\n",
       "</style>\n",
       "<table border=\"1\" class=\"dataframe\">\n",
       "  <thead>\n",
       "    <tr style=\"text-align: right;\">\n",
       "      <th></th>\n",
       "      <th>Airline</th>\n",
       "      <th>Date_of_Journey</th>\n",
       "      <th>Source</th>\n",
       "      <th>Destination</th>\n",
       "      <th>Route</th>\n",
       "      <th>Dep_Time</th>\n",
       "      <th>Arrival_Time</th>\n",
       "      <th>Duration</th>\n",
       "      <th>Total_Stops</th>\n",
       "      <th>Additional_Info</th>\n",
       "    </tr>\n",
       "  </thead>\n",
       "  <tbody>\n",
       "    <tr>\n",
       "      <th>0</th>\n",
       "      <td>Jet Airways</td>\n",
       "      <td>6/06/2019</td>\n",
       "      <td>Delhi</td>\n",
       "      <td>Cochin</td>\n",
       "      <td>DEL → BOM → COK</td>\n",
       "      <td>17:30</td>\n",
       "      <td>04:25 07 Jun</td>\n",
       "      <td>10h 55m</td>\n",
       "      <td>1 stop</td>\n",
       "      <td>No info</td>\n",
       "    </tr>\n",
       "    <tr>\n",
       "      <th>1</th>\n",
       "      <td>IndiGo</td>\n",
       "      <td>12/05/2019</td>\n",
       "      <td>Kolkata</td>\n",
       "      <td>Banglore</td>\n",
       "      <td>CCU → MAA → BLR</td>\n",
       "      <td>06:20</td>\n",
       "      <td>10:20</td>\n",
       "      <td>4h</td>\n",
       "      <td>1 stop</td>\n",
       "      <td>No info</td>\n",
       "    </tr>\n",
       "    <tr>\n",
       "      <th>2</th>\n",
       "      <td>Jet Airways</td>\n",
       "      <td>21/05/2019</td>\n",
       "      <td>Delhi</td>\n",
       "      <td>Cochin</td>\n",
       "      <td>DEL → BOM → COK</td>\n",
       "      <td>19:15</td>\n",
       "      <td>19:00 22 May</td>\n",
       "      <td>23h 45m</td>\n",
       "      <td>1 stop</td>\n",
       "      <td>In-flight meal not included</td>\n",
       "    </tr>\n",
       "    <tr>\n",
       "      <th>3</th>\n",
       "      <td>Multiple carriers</td>\n",
       "      <td>21/05/2019</td>\n",
       "      <td>Delhi</td>\n",
       "      <td>Cochin</td>\n",
       "      <td>DEL → BOM → COK</td>\n",
       "      <td>08:00</td>\n",
       "      <td>21:00</td>\n",
       "      <td>13h</td>\n",
       "      <td>1 stop</td>\n",
       "      <td>No info</td>\n",
       "    </tr>\n",
       "    <tr>\n",
       "      <th>4</th>\n",
       "      <td>Air Asia</td>\n",
       "      <td>24/06/2019</td>\n",
       "      <td>Banglore</td>\n",
       "      <td>Delhi</td>\n",
       "      <td>BLR → DEL</td>\n",
       "      <td>23:55</td>\n",
       "      <td>02:45 25 Jun</td>\n",
       "      <td>2h 50m</td>\n",
       "      <td>non-stop</td>\n",
       "      <td>No info</td>\n",
       "    </tr>\n",
       "  </tbody>\n",
       "</table>\n",
       "</div>"
      ],
      "text/plain": [
       "             Airline Date_of_Journey    Source Destination            Route  \\\n",
       "0        Jet Airways       6/06/2019     Delhi      Cochin  DEL → BOM → COK   \n",
       "1             IndiGo      12/05/2019   Kolkata    Banglore  CCU → MAA → BLR   \n",
       "2        Jet Airways      21/05/2019     Delhi      Cochin  DEL → BOM → COK   \n",
       "3  Multiple carriers      21/05/2019     Delhi      Cochin  DEL → BOM → COK   \n",
       "4           Air Asia      24/06/2019  Banglore       Delhi        BLR → DEL   \n",
       "\n",
       "  Dep_Time  Arrival_Time Duration Total_Stops              Additional_Info  \n",
       "0    17:30  04:25 07 Jun  10h 55m      1 stop                      No info  \n",
       "1    06:20         10:20       4h      1 stop                      No info  \n",
       "2    19:15  19:00 22 May  23h 45m      1 stop  In-flight meal not included  \n",
       "3    08:00         21:00      13h      1 stop                      No info  \n",
       "4    23:55  02:45 25 Jun   2h 50m    non-stop                      No info  "
      ]
     },
     "execution_count": 4,
     "metadata": {},
     "output_type": "execute_result"
    }
   ],
   "source": [
    "test=pd.read_excel('Test_set.xlsx')\n",
    "test.head()"
   ]
  },
  {
   "cell_type": "code",
   "execution_count": 5,
   "id": "79b5bc08-b1f4-49a4-b3bb-17aa0868fdf1",
   "metadata": {},
   "outputs": [
    {
     "name": "stdout",
     "output_type": "stream",
     "text": [
      "(10683, 11)\n",
      "(2671, 10)\n"
     ]
    }
   ],
   "source": [
    "print(train.shape)\n",
    "print(test.shape)"
   ]
  },
  {
   "cell_type": "code",
   "execution_count": 6,
   "id": "de676be5-586a-4825-9469-fa6a7c4d40e0",
   "metadata": {},
   "outputs": [
    {
     "name": "stdout",
     "output_type": "stream",
     "text": [
      "<class 'pandas.core.frame.DataFrame'>\n",
      "RangeIndex: 10683 entries, 0 to 10682\n",
      "Data columns (total 11 columns):\n",
      " #   Column           Non-Null Count  Dtype \n",
      "---  ------           --------------  ----- \n",
      " 0   Airline          10683 non-null  object\n",
      " 1   Date_of_Journey  10683 non-null  object\n",
      " 2   Source           10683 non-null  object\n",
      " 3   Destination      10683 non-null  object\n",
      " 4   Route            10682 non-null  object\n",
      " 5   Dep_Time         10683 non-null  object\n",
      " 6   Arrival_Time     10683 non-null  object\n",
      " 7   Duration         10683 non-null  object\n",
      " 8   Total_Stops      10682 non-null  object\n",
      " 9   Additional_Info  10683 non-null  object\n",
      " 10  Price            10683 non-null  int64 \n",
      "dtypes: int64(1), object(10)\n",
      "memory usage: 918.2+ KB\n"
     ]
    }
   ],
   "source": [
    "train.info()"
   ]
  },
  {
   "cell_type": "code",
   "execution_count": 7,
   "id": "9b542da3-63b4-4c9b-b3bd-b03549606fda",
   "metadata": {},
   "outputs": [
    {
     "name": "stdout",
     "output_type": "stream",
     "text": [
      "<class 'pandas.core.frame.DataFrame'>\n",
      "RangeIndex: 2671 entries, 0 to 2670\n",
      "Data columns (total 10 columns):\n",
      " #   Column           Non-Null Count  Dtype \n",
      "---  ------           --------------  ----- \n",
      " 0   Airline          2671 non-null   object\n",
      " 1   Date_of_Journey  2671 non-null   object\n",
      " 2   Source           2671 non-null   object\n",
      " 3   Destination      2671 non-null   object\n",
      " 4   Route            2671 non-null   object\n",
      " 5   Dep_Time         2671 non-null   object\n",
      " 6   Arrival_Time     2671 non-null   object\n",
      " 7   Duration         2671 non-null   object\n",
      " 8   Total_Stops      2671 non-null   object\n",
      " 9   Additional_Info  2671 non-null   object\n",
      "dtypes: object(10)\n",
      "memory usage: 208.8+ KB\n"
     ]
    }
   ],
   "source": [
    "test.info()"
   ]
  },
  {
   "cell_type": "code",
   "execution_count": 8,
   "id": "e0ce1be9-2e4d-48a5-a2d7-8ddbb1880d7a",
   "metadata": {},
   "outputs": [
    {
     "name": "stdout",
     "output_type": "stream",
     "text": [
      "Unique values in Airline 12\n",
      "Unique values in Date_of_Journey 44\n",
      "Unique values in Source 5\n",
      "Unique values in Destination 6\n",
      "Unique values in Route 128\n",
      "Unique values in Dep_Time 222\n",
      "Unique values in Arrival_Time 1343\n",
      "Unique values in Duration 368\n",
      "Unique values in Total_Stops 5\n",
      "Unique values in Additional_Info 10\n",
      "Unique values in Price 1870\n"
     ]
    }
   ],
   "source": [
    "# Iterate through each column in the 'train' dataframe and print the column name along with the number of unique values it contains\n",
    "for i in train.columns:\n",
    "    print('Unique values in',i,train[i].nunique())"
   ]
  },
  {
   "cell_type": "code",
   "execution_count": 9,
   "id": "a5ee359f-8ff3-4091-9c68-af50622ca5f5",
   "metadata": {},
   "outputs": [
    {
     "name": "stdout",
     "output_type": "stream",
     "text": [
      "Unique values in Airline 11\n",
      "Unique values in Date_of_Journey 44\n",
      "Unique values in Source 5\n",
      "Unique values in Destination 6\n",
      "Unique values in Route 100\n",
      "Unique values in Dep_Time 199\n",
      "Unique values in Arrival_Time 704\n",
      "Unique values in Duration 320\n",
      "Unique values in Total_Stops 5\n",
      "Unique values in Additional_Info 6\n"
     ]
    }
   ],
   "source": [
    "# Iterate through each column in the 'test' dataframe and print the column name along with the number of unique values it contains\n",
    "for i in test.columns:\n",
    "    print('Unique values in',i,test[i].nunique())"
   ]
  },
  {
   "cell_type": "markdown",
   "id": "c1d9f8a8-ffb6-46be-a7e6-723b830bc14c",
   "metadata": {},
   "source": [
    "## Data Pre-processing"
   ]
  },
  {
   "cell_type": "code",
   "execution_count": 11,
   "id": "8277ed67-1656-480e-8b92-7ced9e18c4f1",
   "metadata": {},
   "outputs": [],
   "source": [
    "train_df = train[['Airline', 'Source', 'Destination', 'Total_Stops', 'Additional_Info', 'Date_of_Journey', 'Dep_Time', \n",
    "                  'Route', 'Arrival_Time', 'Price']]\n",
    "\n",
    "test_df = test[['Airline', 'Source', 'Destination', 'Total_Stops', 'Additional_Info', 'Date_of_Journey', 'Dep_Time', \n",
    "                'Route', 'Arrival_Time']]"
   ]
  },
  {
   "cell_type": "markdown",
   "id": "a4941629-6da9-4c71-8883-c0a9bdf18141",
   "metadata": {},
   "source": [
    "This is new feature Booking_Class to identify the booking class i.e. Economy, Premium Economy & Business. For the 'Premium Economy' and Business class its already mentioned. Rest of the airlines I have assumed as Economy."
   ]
  },
  {
   "cell_type": "code",
   "execution_count": 13,
   "id": "2d9dd87e-3aa9-4cd9-8651-94a53234de3c",
   "metadata": {},
   "outputs": [],
   "source": [
    "airline_class = {'IndiGo': 'Economy',\n",
    "         'GoAir': 'Economy',\n",
    "         'Vistara': 'Economy',\n",
    "         'Vistara Premium economy': 'Premium Economy',\n",
    "         'Air Asia': 'Economy',\n",
    "         'Trujet': 'Economy',\n",
    "         'Jet Airways': 'Economy',\n",
    "         'SpiceJet': 'Economy',\n",
    "         'Jet Airways Business': 'Business',\n",
    "         'Air India': 'Economy',\n",
    "         'Multiple carriers': 'Economy',\n",
    "         'Multiple carriers Premium economy': 'Premium Economy'}\n",
    "\n",
    "train_df['Booking_Class']=train_df['Airline'].map(airline_class)\n",
    "test_df['Booking_Class']=test_df['Airline'].map(airline_class)"
   ]
  },
  {
   "cell_type": "code",
   "execution_count": 14,
   "id": "64bb22ce-4fb0-4c2a-b303-b4cd762aa1c6",
   "metadata": {},
   "outputs": [
    {
     "data": {
      "text/html": [
       "<div>\n",
       "<style scoped>\n",
       "    .dataframe tbody tr th:only-of-type {\n",
       "        vertical-align: middle;\n",
       "    }\n",
       "\n",
       "    .dataframe tbody tr th {\n",
       "        vertical-align: top;\n",
       "    }\n",
       "\n",
       "    .dataframe thead th {\n",
       "        text-align: right;\n",
       "    }\n",
       "</style>\n",
       "<table border=\"1\" class=\"dataframe\">\n",
       "  <thead>\n",
       "    <tr style=\"text-align: right;\">\n",
       "      <th></th>\n",
       "      <th>Airline</th>\n",
       "      <th>Source</th>\n",
       "      <th>Destination</th>\n",
       "      <th>Total_Stops</th>\n",
       "      <th>Additional_Info</th>\n",
       "      <th>Date_of_Journey</th>\n",
       "      <th>Dep_Time</th>\n",
       "      <th>Route</th>\n",
       "      <th>Arrival_Time</th>\n",
       "      <th>Price</th>\n",
       "      <th>Booking_Class</th>\n",
       "    </tr>\n",
       "  </thead>\n",
       "  <tbody>\n",
       "    <tr>\n",
       "      <th>0</th>\n",
       "      <td>IndiGo</td>\n",
       "      <td>Banglore</td>\n",
       "      <td>New Delhi</td>\n",
       "      <td>non-stop</td>\n",
       "      <td>No info</td>\n",
       "      <td>24/03/2019</td>\n",
       "      <td>22:20</td>\n",
       "      <td>BLR → DEL</td>\n",
       "      <td>01:10 22 Mar</td>\n",
       "      <td>3897</td>\n",
       "      <td>Economy</td>\n",
       "    </tr>\n",
       "    <tr>\n",
       "      <th>1</th>\n",
       "      <td>Air India</td>\n",
       "      <td>Kolkata</td>\n",
       "      <td>Banglore</td>\n",
       "      <td>2 stops</td>\n",
       "      <td>No info</td>\n",
       "      <td>1/05/2019</td>\n",
       "      <td>05:50</td>\n",
       "      <td>CCU → IXR → BBI → BLR</td>\n",
       "      <td>13:15</td>\n",
       "      <td>7662</td>\n",
       "      <td>Economy</td>\n",
       "    </tr>\n",
       "    <tr>\n",
       "      <th>2</th>\n",
       "      <td>Jet Airways</td>\n",
       "      <td>Delhi</td>\n",
       "      <td>Cochin</td>\n",
       "      <td>2 stops</td>\n",
       "      <td>No info</td>\n",
       "      <td>9/06/2019</td>\n",
       "      <td>09:25</td>\n",
       "      <td>DEL → LKO → BOM → COK</td>\n",
       "      <td>04:25 10 Jun</td>\n",
       "      <td>13882</td>\n",
       "      <td>Economy</td>\n",
       "    </tr>\n",
       "    <tr>\n",
       "      <th>3</th>\n",
       "      <td>IndiGo</td>\n",
       "      <td>Kolkata</td>\n",
       "      <td>Banglore</td>\n",
       "      <td>1 stop</td>\n",
       "      <td>No info</td>\n",
       "      <td>12/05/2019</td>\n",
       "      <td>18:05</td>\n",
       "      <td>CCU → NAG → BLR</td>\n",
       "      <td>23:30</td>\n",
       "      <td>6218</td>\n",
       "      <td>Economy</td>\n",
       "    </tr>\n",
       "    <tr>\n",
       "      <th>4</th>\n",
       "      <td>IndiGo</td>\n",
       "      <td>Banglore</td>\n",
       "      <td>New Delhi</td>\n",
       "      <td>1 stop</td>\n",
       "      <td>No info</td>\n",
       "      <td>01/03/2019</td>\n",
       "      <td>16:50</td>\n",
       "      <td>BLR → NAG → DEL</td>\n",
       "      <td>21:35</td>\n",
       "      <td>13302</td>\n",
       "      <td>Economy</td>\n",
       "    </tr>\n",
       "  </tbody>\n",
       "</table>\n",
       "</div>"
      ],
      "text/plain": [
       "       Airline    Source Destination Total_Stops Additional_Info  \\\n",
       "0       IndiGo  Banglore   New Delhi    non-stop         No info   \n",
       "1    Air India   Kolkata    Banglore     2 stops         No info   \n",
       "2  Jet Airways     Delhi      Cochin     2 stops         No info   \n",
       "3       IndiGo   Kolkata    Banglore      1 stop         No info   \n",
       "4       IndiGo  Banglore   New Delhi      1 stop         No info   \n",
       "\n",
       "  Date_of_Journey Dep_Time                  Route  Arrival_Time  Price  \\\n",
       "0      24/03/2019    22:20              BLR → DEL  01:10 22 Mar   3897   \n",
       "1       1/05/2019    05:50  CCU → IXR → BBI → BLR         13:15   7662   \n",
       "2       9/06/2019    09:25  DEL → LKO → BOM → COK  04:25 10 Jun  13882   \n",
       "3      12/05/2019    18:05        CCU → NAG → BLR         23:30   6218   \n",
       "4      01/03/2019    16:50        BLR → NAG → DEL         21:35  13302   \n",
       "\n",
       "  Booking_Class  \n",
       "0       Economy  \n",
       "1       Economy  \n",
       "2       Economy  \n",
       "3       Economy  \n",
       "4       Economy  "
      ]
     },
     "execution_count": 14,
     "metadata": {},
     "output_type": "execute_result"
    }
   ],
   "source": [
    "train_df.head()"
   ]
  },
  {
   "cell_type": "markdown",
   "id": "370d3583-008d-4c7f-bcf5-26cf0e6766ee",
   "metadata": {},
   "source": [
    "One of the very important factors which influences Flight Ticket price is how soon you book the ticket. Since this information was not provided in the dataset I have assumed 01-Mar-2019 as ticket booking date and created new feature Days_to_Departure"
   ]
  },
  {
   "cell_type": "code",
   "execution_count": 16,
   "id": "39c86d18-08d2-4987-b160-ae54e098d1e6",
   "metadata": {},
   "outputs": [],
   "source": [
    "df1=train_df.copy()\n",
    "df1['Day_of_Booking']='1/3/2019' # Set the 'Day_of_Booking' column to a specific date\n",
    "df1['Day_of_Booking']=pd.to_datetime(df1['Day_of_Booking'],format='%d/%m/%Y') # Convert the 'Day_of_Booking' column to datetime format\n",
    "df1['Date_of_Journey']=pd.to_datetime(df1['Date_of_Journey'],format='%d/%m/%Y') #  Convert the 'Date_of_Journey' column to datetime format\n",
    "df1['Days_to_Departure']=(df1['Date_of_Journey']-df1['Day_of_Booking']).dt.days # Calculate the number of days to departure and store it in a new column 'Days_to_Departure'\n",
    "train_df['Days_to_Departure']=df1['Days_to_Departure'] # Update the 'train_df' DataFrame with the 'Days_to_Departure' values from the modified 'df1' DataFrame"
   ]
  },
  {
   "cell_type": "code",
   "execution_count": 17,
   "id": "04578291-a9f8-40dd-91b7-ff390ab09971",
   "metadata": {},
   "outputs": [],
   "source": [
    "df2=test_df.copy()\n",
    "df2['Day_of_Booking']='1/3/2019' # Set the 'Day_of_Booking' column to a specific date\n",
    "df2['Day_of_Booking']=pd.to_datetime(df2['Day_of_Booking'],format='%d/%m/%Y') # Convert the 'Day_of_Booking' column to datetime format\n",
    "df2['Date_of_Journey']=pd.to_datetime(df2['Date_of_Journey'],format='%d/%m/%Y') #  Convert the 'Date_of_Journey' column to datetime format\n",
    "df2['Days_to_Departure']=(df2['Date_of_Journey']-df2['Day_of_Booking']).dt.days # Calculate the number of days to departure and store it in a new column 'Days_to_Departure'\n",
    "test_df['Days_to_Departure']=df2['Days_to_Departure'] # Update the 'train_df' DataFrame with the 'Days_to_Departure' values from the modified 'df1' DataFrame"
   ]
  },
  {
   "cell_type": "code",
   "execution_count": 18,
   "id": "17259e8b-e564-4e05-806f-e98342397d2b",
   "metadata": {},
   "outputs": [
    {
     "data": {
      "text/html": [
       "<div>\n",
       "<style scoped>\n",
       "    .dataframe tbody tr th:only-of-type {\n",
       "        vertical-align: middle;\n",
       "    }\n",
       "\n",
       "    .dataframe tbody tr th {\n",
       "        vertical-align: top;\n",
       "    }\n",
       "\n",
       "    .dataframe thead th {\n",
       "        text-align: right;\n",
       "    }\n",
       "</style>\n",
       "<table border=\"1\" class=\"dataframe\">\n",
       "  <thead>\n",
       "    <tr style=\"text-align: right;\">\n",
       "      <th></th>\n",
       "      <th>Airline</th>\n",
       "      <th>Source</th>\n",
       "      <th>Destination</th>\n",
       "      <th>Total_Stops</th>\n",
       "      <th>Additional_Info</th>\n",
       "      <th>Date_of_Journey</th>\n",
       "      <th>Dep_Time</th>\n",
       "      <th>Route</th>\n",
       "      <th>Arrival_Time</th>\n",
       "      <th>Price</th>\n",
       "      <th>Booking_Class</th>\n",
       "      <th>Days_to_Departure</th>\n",
       "    </tr>\n",
       "  </thead>\n",
       "  <tbody>\n",
       "    <tr>\n",
       "      <th>0</th>\n",
       "      <td>IndiGo</td>\n",
       "      <td>Banglore</td>\n",
       "      <td>New Delhi</td>\n",
       "      <td>non-stop</td>\n",
       "      <td>No info</td>\n",
       "      <td>24/03/2019</td>\n",
       "      <td>22:20</td>\n",
       "      <td>BLR → DEL</td>\n",
       "      <td>01:10 22 Mar</td>\n",
       "      <td>3897</td>\n",
       "      <td>Economy</td>\n",
       "      <td>23</td>\n",
       "    </tr>\n",
       "    <tr>\n",
       "      <th>1</th>\n",
       "      <td>Air India</td>\n",
       "      <td>Kolkata</td>\n",
       "      <td>Banglore</td>\n",
       "      <td>2 stops</td>\n",
       "      <td>No info</td>\n",
       "      <td>1/05/2019</td>\n",
       "      <td>05:50</td>\n",
       "      <td>CCU → IXR → BBI → BLR</td>\n",
       "      <td>13:15</td>\n",
       "      <td>7662</td>\n",
       "      <td>Economy</td>\n",
       "      <td>61</td>\n",
       "    </tr>\n",
       "  </tbody>\n",
       "</table>\n",
       "</div>"
      ],
      "text/plain": [
       "     Airline    Source Destination Total_Stops Additional_Info  \\\n",
       "0     IndiGo  Banglore   New Delhi    non-stop         No info   \n",
       "1  Air India   Kolkata    Banglore     2 stops         No info   \n",
       "\n",
       "  Date_of_Journey Dep_Time                  Route  Arrival_Time  Price  \\\n",
       "0      24/03/2019    22:20              BLR → DEL  01:10 22 Mar   3897   \n",
       "1       1/05/2019    05:50  CCU → IXR → BBI → BLR         13:15   7662   \n",
       "\n",
       "  Booking_Class  Days_to_Departure  \n",
       "0       Economy                 23  \n",
       "1       Economy                 61  "
      ]
     },
     "execution_count": 18,
     "metadata": {},
     "output_type": "execute_result"
    }
   ],
   "source": [
    "train_df.head(2)"
   ]
  },
  {
   "cell_type": "markdown",
   "id": "33df93a2-2917-453a-a741-6cce3a5024e8",
   "metadata": {},
   "source": [
    "In the column ‘Arrival_Time’,if we see we have combination of both time and month but we need only the time details out of it."
   ]
  },
  {
   "cell_type": "code",
   "execution_count": 20,
   "id": "c99d0be5-6bde-4da3-bf9c-8c69569bfe26",
   "metadata": {},
   "outputs": [],
   "source": [
    "# Extracting the date part from the 'Arrival_Time' column and assigning it to a new column 'Arrival_Time' in the train_df dataframe\n",
    "train_df['Arrival_Time']=train['Arrival_Time'].str.split(' ').str[0]\n",
    "test_df['Arrival_Time']=test['Arrival_Time'].str.split(' ').str[0]"
   ]
  },
  {
   "cell_type": "code",
   "execution_count": 21,
   "id": "1866de2f-4d58-4ae7-8908-67e331499852",
   "metadata": {},
   "outputs": [
    {
     "data": {
      "text/html": [
       "<div>\n",
       "<style scoped>\n",
       "    .dataframe tbody tr th:only-of-type {\n",
       "        vertical-align: middle;\n",
       "    }\n",
       "\n",
       "    .dataframe tbody tr th {\n",
       "        vertical-align: top;\n",
       "    }\n",
       "\n",
       "    .dataframe thead th {\n",
       "        text-align: right;\n",
       "    }\n",
       "</style>\n",
       "<table border=\"1\" class=\"dataframe\">\n",
       "  <thead>\n",
       "    <tr style=\"text-align: right;\">\n",
       "      <th></th>\n",
       "      <th>Airline</th>\n",
       "      <th>Source</th>\n",
       "      <th>Destination</th>\n",
       "      <th>Total_Stops</th>\n",
       "      <th>Additional_Info</th>\n",
       "      <th>Date_of_Journey</th>\n",
       "      <th>Dep_Time</th>\n",
       "      <th>Route</th>\n",
       "      <th>Arrival_Time</th>\n",
       "      <th>Price</th>\n",
       "      <th>Booking_Class</th>\n",
       "      <th>Days_to_Departure</th>\n",
       "    </tr>\n",
       "  </thead>\n",
       "  <tbody>\n",
       "    <tr>\n",
       "      <th>0</th>\n",
       "      <td>IndiGo</td>\n",
       "      <td>Banglore</td>\n",
       "      <td>New Delhi</td>\n",
       "      <td>non-stop</td>\n",
       "      <td>No info</td>\n",
       "      <td>24/03/2019</td>\n",
       "      <td>22:20</td>\n",
       "      <td>BLR → DEL</td>\n",
       "      <td>01:10</td>\n",
       "      <td>3897</td>\n",
       "      <td>Economy</td>\n",
       "      <td>23</td>\n",
       "    </tr>\n",
       "    <tr>\n",
       "      <th>1</th>\n",
       "      <td>Air India</td>\n",
       "      <td>Kolkata</td>\n",
       "      <td>Banglore</td>\n",
       "      <td>2 stops</td>\n",
       "      <td>No info</td>\n",
       "      <td>1/05/2019</td>\n",
       "      <td>05:50</td>\n",
       "      <td>CCU → IXR → BBI → BLR</td>\n",
       "      <td>13:15</td>\n",
       "      <td>7662</td>\n",
       "      <td>Economy</td>\n",
       "      <td>61</td>\n",
       "    </tr>\n",
       "  </tbody>\n",
       "</table>\n",
       "</div>"
      ],
      "text/plain": [
       "     Airline    Source Destination Total_Stops Additional_Info  \\\n",
       "0     IndiGo  Banglore   New Delhi    non-stop         No info   \n",
       "1  Air India   Kolkata    Banglore     2 stops         No info   \n",
       "\n",
       "  Date_of_Journey Dep_Time                  Route Arrival_Time  Price  \\\n",
       "0      24/03/2019    22:20              BLR → DEL        01:10   3897   \n",
       "1       1/05/2019    05:50  CCU → IXR → BBI → BLR        13:15   7662   \n",
       "\n",
       "  Booking_Class  Days_to_Departure  \n",
       "0       Economy                 23  \n",
       "1       Economy                 61  "
      ]
     },
     "execution_count": 21,
     "metadata": {},
     "output_type": "execute_result"
    }
   ],
   "source": [
    "train_df.head(2)"
   ]
  },
  {
   "cell_type": "markdown",
   "id": "66270299-df41-4bb4-8f36-87f51bcff929",
   "metadata": {},
   "source": [
    "Another important parameter which influences Flight Price is Departure time of the flight i.e. Morning, Noon, Evening or Night. So created this new feature Dep_daytime which indicate Departure Time of the day. "
   ]
  },
  {
   "cell_type": "code",
   "execution_count": 23,
   "id": "a9d2bf97-a30d-4ee2-801b-ff988e7d6fc6",
   "metadata": {},
   "outputs": [],
   "source": [
    "def get_departure(dep):\n",
    "    dep=dep.split(':') # Split the departure time by ':' and convert the hour part to an integer\n",
    "     # Determine the time of day based on the departure hour\n",
    "    dep=int(dep[0])\n",
    "    if(dep>=6 and dep<12):\n",
    "        return 'Morning'\n",
    "    elif(dep>=12 and dep<17):\n",
    "        return 'Noon'\n",
    "    elif(dep>=17 and dep<20):\n",
    "        return 'Evening'\n",
    "    else:\n",
    "        return 'Night'\n",
    "\n",
    "train_df['Dep_daytime']=train['Dep_Time'].apply(get_departure)\n",
    "test_df['Dep_daytime']=test['Dep_Time'].apply(get_departure)"
   ]
  },
  {
   "cell_type": "code",
   "execution_count": 24,
   "id": "ad5f5b9b-adb9-4ac8-bc35-909179a10e2a",
   "metadata": {},
   "outputs": [
    {
     "data": {
      "text/html": [
       "<div>\n",
       "<style scoped>\n",
       "    .dataframe tbody tr th:only-of-type {\n",
       "        vertical-align: middle;\n",
       "    }\n",
       "\n",
       "    .dataframe tbody tr th {\n",
       "        vertical-align: top;\n",
       "    }\n",
       "\n",
       "    .dataframe thead th {\n",
       "        text-align: right;\n",
       "    }\n",
       "</style>\n",
       "<table border=\"1\" class=\"dataframe\">\n",
       "  <thead>\n",
       "    <tr style=\"text-align: right;\">\n",
       "      <th></th>\n",
       "      <th>Airline</th>\n",
       "      <th>Source</th>\n",
       "      <th>Destination</th>\n",
       "      <th>Total_Stops</th>\n",
       "      <th>Additional_Info</th>\n",
       "      <th>Date_of_Journey</th>\n",
       "      <th>Dep_Time</th>\n",
       "      <th>Route</th>\n",
       "      <th>Arrival_Time</th>\n",
       "      <th>Price</th>\n",
       "      <th>Booking_Class</th>\n",
       "      <th>Days_to_Departure</th>\n",
       "      <th>Dep_daytime</th>\n",
       "    </tr>\n",
       "  </thead>\n",
       "  <tbody>\n",
       "    <tr>\n",
       "      <th>0</th>\n",
       "      <td>IndiGo</td>\n",
       "      <td>Banglore</td>\n",
       "      <td>New Delhi</td>\n",
       "      <td>non-stop</td>\n",
       "      <td>No info</td>\n",
       "      <td>24/03/2019</td>\n",
       "      <td>22:20</td>\n",
       "      <td>BLR → DEL</td>\n",
       "      <td>01:10</td>\n",
       "      <td>3897</td>\n",
       "      <td>Economy</td>\n",
       "      <td>23</td>\n",
       "      <td>Night</td>\n",
       "    </tr>\n",
       "    <tr>\n",
       "      <th>1</th>\n",
       "      <td>Air India</td>\n",
       "      <td>Kolkata</td>\n",
       "      <td>Banglore</td>\n",
       "      <td>2 stops</td>\n",
       "      <td>No info</td>\n",
       "      <td>1/05/2019</td>\n",
       "      <td>05:50</td>\n",
       "      <td>CCU → IXR → BBI → BLR</td>\n",
       "      <td>13:15</td>\n",
       "      <td>7662</td>\n",
       "      <td>Economy</td>\n",
       "      <td>61</td>\n",
       "      <td>Night</td>\n",
       "    </tr>\n",
       "  </tbody>\n",
       "</table>\n",
       "</div>"
      ],
      "text/plain": [
       "     Airline    Source Destination Total_Stops Additional_Info  \\\n",
       "0     IndiGo  Banglore   New Delhi    non-stop         No info   \n",
       "1  Air India   Kolkata    Banglore     2 stops         No info   \n",
       "\n",
       "  Date_of_Journey Dep_Time                  Route Arrival_Time  Price  \\\n",
       "0      24/03/2019    22:20              BLR → DEL        01:10   3897   \n",
       "1       1/05/2019    05:50  CCU → IXR → BBI → BLR        13:15   7662   \n",
       "\n",
       "  Booking_Class  Days_to_Departure Dep_daytime  \n",
       "0       Economy                 23       Night  \n",
       "1       Economy                 61       Night  "
      ]
     },
     "execution_count": 24,
     "metadata": {},
     "output_type": "execute_result"
    }
   ],
   "source": [
    "train_df.head(2)"
   ]
  },
  {
   "cell_type": "markdown",
   "id": "fadee19b-e39b-49cf-8b95-768a0509695a",
   "metadata": {},
   "source": [
    "Applied the same concepts of Dep_daytime to Arrival Time and created another feature Arr_daytime"
   ]
  },
  {
   "cell_type": "code",
   "execution_count": 26,
   "id": "23930ed8-a06a-4b76-84d7-521bf9e1ea9c",
   "metadata": {},
   "outputs": [],
   "source": [
    "train_df['Arr_daytime']=train['Arrival_Time'].apply(get_departure)\n",
    "test_df['Arr_daytime']=test['Arrival_Time'].apply(get_departure)"
   ]
  },
  {
   "cell_type": "code",
   "execution_count": 27,
   "id": "4b44956a-8f86-4e9b-8f81-b38920f22b0d",
   "metadata": {},
   "outputs": [
    {
     "data": {
      "text/html": [
       "<div>\n",
       "<style scoped>\n",
       "    .dataframe tbody tr th:only-of-type {\n",
       "        vertical-align: middle;\n",
       "    }\n",
       "\n",
       "    .dataframe tbody tr th {\n",
       "        vertical-align: top;\n",
       "    }\n",
       "\n",
       "    .dataframe thead th {\n",
       "        text-align: right;\n",
       "    }\n",
       "</style>\n",
       "<table border=\"1\" class=\"dataframe\">\n",
       "  <thead>\n",
       "    <tr style=\"text-align: right;\">\n",
       "      <th></th>\n",
       "      <th>Airline</th>\n",
       "      <th>Source</th>\n",
       "      <th>Destination</th>\n",
       "      <th>Total_Stops</th>\n",
       "      <th>Additional_Info</th>\n",
       "      <th>Date_of_Journey</th>\n",
       "      <th>Dep_Time</th>\n",
       "      <th>Route</th>\n",
       "      <th>Arrival_Time</th>\n",
       "      <th>Price</th>\n",
       "      <th>Booking_Class</th>\n",
       "      <th>Days_to_Departure</th>\n",
       "      <th>Dep_daytime</th>\n",
       "      <th>Arr_daytime</th>\n",
       "    </tr>\n",
       "  </thead>\n",
       "  <tbody>\n",
       "    <tr>\n",
       "      <th>0</th>\n",
       "      <td>IndiGo</td>\n",
       "      <td>Banglore</td>\n",
       "      <td>New Delhi</td>\n",
       "      <td>non-stop</td>\n",
       "      <td>No info</td>\n",
       "      <td>24/03/2019</td>\n",
       "      <td>22:20</td>\n",
       "      <td>BLR → DEL</td>\n",
       "      <td>01:10</td>\n",
       "      <td>3897</td>\n",
       "      <td>Economy</td>\n",
       "      <td>23</td>\n",
       "      <td>Night</td>\n",
       "      <td>Night</td>\n",
       "    </tr>\n",
       "    <tr>\n",
       "      <th>1</th>\n",
       "      <td>Air India</td>\n",
       "      <td>Kolkata</td>\n",
       "      <td>Banglore</td>\n",
       "      <td>2 stops</td>\n",
       "      <td>No info</td>\n",
       "      <td>1/05/2019</td>\n",
       "      <td>05:50</td>\n",
       "      <td>CCU → IXR → BBI → BLR</td>\n",
       "      <td>13:15</td>\n",
       "      <td>7662</td>\n",
       "      <td>Economy</td>\n",
       "      <td>61</td>\n",
       "      <td>Night</td>\n",
       "      <td>Noon</td>\n",
       "    </tr>\n",
       "  </tbody>\n",
       "</table>\n",
       "</div>"
      ],
      "text/plain": [
       "     Airline    Source Destination Total_Stops Additional_Info  \\\n",
       "0     IndiGo  Banglore   New Delhi    non-stop         No info   \n",
       "1  Air India   Kolkata    Banglore     2 stops         No info   \n",
       "\n",
       "  Date_of_Journey Dep_Time                  Route Arrival_Time  Price  \\\n",
       "0      24/03/2019    22:20              BLR → DEL        01:10   3897   \n",
       "1       1/05/2019    05:50  CCU → IXR → BBI → BLR        13:15   7662   \n",
       "\n",
       "  Booking_Class  Days_to_Departure Dep_daytime Arr_daytime  \n",
       "0       Economy                 23       Night       Night  \n",
       "1       Economy                 61       Night        Noon  "
      ]
     },
     "execution_count": 27,
     "metadata": {},
     "output_type": "execute_result"
    }
   ],
   "source": [
    "train_df.head(2)"
   ]
  },
  {
   "cell_type": "markdown",
   "id": "9cac9c93-e93c-42de-9f07-e6fda1596021",
   "metadata": {},
   "source": [
    "From description we can see that Date_of_Journey is a object data type,\n",
    "Therefore, we have to convert this datatype into timestamp so as to use this column properly for prediction\n",
    "\n",
    "For this we require pandas to_datetime to convert object data type to datetime dtype.\n",
    "\n",
    ".dt.day method will extract only day of that date\n",
    ".dt.month method will extract only month of that date"
   ]
  },
  {
   "cell_type": "code",
   "execution_count": 29,
   "id": "b6ba9a5b-a2b5-4d1b-86e6-79f7649b74ad",
   "metadata": {},
   "outputs": [],
   "source": [
    "train_df[\"Journey_day\"] = pd.to_datetime(train_df.Date_of_Journey, format=\"%d/%m/%Y\").dt.day\n",
    "train_df[\"Journey_month\"] = pd.to_datetime(train_df[\"Date_of_Journey\"], format = \"%d/%m/%Y\").dt.month\n",
    "\n",
    "test_df[\"Journey_day\"] = pd.to_datetime(test_df.Date_of_Journey, format=\"%d/%m/%Y\").dt.day\n",
    "test_df[\"Journey_month\"] = pd.to_datetime(test_df[\"Date_of_Journey\"], format = \"%d/%m/%Y\").dt.month"
   ]
  },
  {
   "cell_type": "code",
   "execution_count": 30,
   "id": "6a3a86ff-59cd-4b73-8ab4-0a5a218bcbef",
   "metadata": {},
   "outputs": [
    {
     "data": {
      "text/html": [
       "<div>\n",
       "<style scoped>\n",
       "    .dataframe tbody tr th:only-of-type {\n",
       "        vertical-align: middle;\n",
       "    }\n",
       "\n",
       "    .dataframe tbody tr th {\n",
       "        vertical-align: top;\n",
       "    }\n",
       "\n",
       "    .dataframe thead th {\n",
       "        text-align: right;\n",
       "    }\n",
       "</style>\n",
       "<table border=\"1\" class=\"dataframe\">\n",
       "  <thead>\n",
       "    <tr style=\"text-align: right;\">\n",
       "      <th></th>\n",
       "      <th>Airline</th>\n",
       "      <th>Source</th>\n",
       "      <th>Destination</th>\n",
       "      <th>Total_Stops</th>\n",
       "      <th>Additional_Info</th>\n",
       "      <th>Date_of_Journey</th>\n",
       "      <th>Dep_Time</th>\n",
       "      <th>Route</th>\n",
       "      <th>Arrival_Time</th>\n",
       "      <th>Price</th>\n",
       "      <th>Booking_Class</th>\n",
       "      <th>Days_to_Departure</th>\n",
       "      <th>Dep_daytime</th>\n",
       "      <th>Arr_daytime</th>\n",
       "      <th>Journey_day</th>\n",
       "      <th>Journey_month</th>\n",
       "    </tr>\n",
       "  </thead>\n",
       "  <tbody>\n",
       "    <tr>\n",
       "      <th>0</th>\n",
       "      <td>IndiGo</td>\n",
       "      <td>Banglore</td>\n",
       "      <td>New Delhi</td>\n",
       "      <td>non-stop</td>\n",
       "      <td>No info</td>\n",
       "      <td>24/03/2019</td>\n",
       "      <td>22:20</td>\n",
       "      <td>BLR → DEL</td>\n",
       "      <td>01:10</td>\n",
       "      <td>3897</td>\n",
       "      <td>Economy</td>\n",
       "      <td>23</td>\n",
       "      <td>Night</td>\n",
       "      <td>Night</td>\n",
       "      <td>24</td>\n",
       "      <td>3</td>\n",
       "    </tr>\n",
       "    <tr>\n",
       "      <th>1</th>\n",
       "      <td>Air India</td>\n",
       "      <td>Kolkata</td>\n",
       "      <td>Banglore</td>\n",
       "      <td>2 stops</td>\n",
       "      <td>No info</td>\n",
       "      <td>1/05/2019</td>\n",
       "      <td>05:50</td>\n",
       "      <td>CCU → IXR → BBI → BLR</td>\n",
       "      <td>13:15</td>\n",
       "      <td>7662</td>\n",
       "      <td>Economy</td>\n",
       "      <td>61</td>\n",
       "      <td>Night</td>\n",
       "      <td>Noon</td>\n",
       "      <td>1</td>\n",
       "      <td>5</td>\n",
       "    </tr>\n",
       "  </tbody>\n",
       "</table>\n",
       "</div>"
      ],
      "text/plain": [
       "     Airline    Source Destination Total_Stops Additional_Info  \\\n",
       "0     IndiGo  Banglore   New Delhi    non-stop         No info   \n",
       "1  Air India   Kolkata    Banglore     2 stops         No info   \n",
       "\n",
       "  Date_of_Journey Dep_Time                  Route Arrival_Time  Price  \\\n",
       "0      24/03/2019    22:20              BLR → DEL        01:10   3897   \n",
       "1       1/05/2019    05:50  CCU → IXR → BBI → BLR        13:15   7662   \n",
       "\n",
       "  Booking_Class  Days_to_Departure Dep_daytime Arr_daytime  Journey_day  \\\n",
       "0       Economy                 23       Night       Night           24   \n",
       "1       Economy                 61       Night        Noon            1   \n",
       "\n",
       "   Journey_month  \n",
       "0              3  \n",
       "1              5  "
      ]
     },
     "execution_count": 30,
     "metadata": {},
     "output_type": "execute_result"
    }
   ],
   "source": [
    "train_df.head(2)"
   ]
  },
  {
   "cell_type": "code",
   "execution_count": 31,
   "id": "00ed982a-fafd-455b-a7fc-112e19afa167",
   "metadata": {},
   "outputs": [],
   "source": [
    "# Since we have converted Date_of_Journey column into integers, Now we can drop as it is of no use.\n",
    "\n",
    "train_df.drop([\"Date_of_Journey\"], axis = 1, inplace = True)\n",
    "test_df.drop([\"Date_of_Journey\"], axis = 1, inplace = True)"
   ]
  },
  {
   "cell_type": "markdown",
   "id": "ee0e3dfd-2f49-4b6d-8575-7731a7970d08",
   "metadata": {},
   "source": [
    "Converted Total_Stops categorical column into numeric"
   ]
  },
  {
   "cell_type": "code",
   "execution_count": 33,
   "id": "a90ec5f9-dd06-4461-a48a-4ded93e5b755",
   "metadata": {},
   "outputs": [],
   "source": [
    "train_df['Total_Stops']=train_df['Total_Stops'].str.replace('non-stop','0')\n",
    "train_df['Total_Stops']=train_df['Total_Stops'].str.replace('stops',' ')\n",
    "train_df['Total_Stops']=train_df['Total_Stops'].str.replace('stop',' ')\n",
    "train_df['Total_Stops'].fillna(0,inplace=True)\n",
    "train_df['Total_Stops']=train_df['Total_Stops'].astype(float)"
   ]
  },
  {
   "cell_type": "code",
   "execution_count": 34,
   "id": "ea600ae6-7ca0-44c9-bb62-f0bf79b11f33",
   "metadata": {},
   "outputs": [],
   "source": [
    "test_df['Total_Stops']=test_df['Total_Stops'].str.replace('non-stop','0')\n",
    "test_df['Total_Stops']=test_df['Total_Stops'].str.replace('stops',' ')\n",
    "test_df['Total_Stops']=test_df['Total_Stops'].str.replace('stop',' ')\n",
    "test_df['Total_Stops'].fillna(0,inplace=True)\n",
    "test_df['Total_Stops']=test_df['Total_Stops'].astype(float)"
   ]
  },
  {
   "cell_type": "code",
   "execution_count": 35,
   "id": "fe2f06ce-5b77-411f-855f-003febfb3c74",
   "metadata": {},
   "outputs": [
    {
     "data": {
      "text/html": [
       "<div>\n",
       "<style scoped>\n",
       "    .dataframe tbody tr th:only-of-type {\n",
       "        vertical-align: middle;\n",
       "    }\n",
       "\n",
       "    .dataframe tbody tr th {\n",
       "        vertical-align: top;\n",
       "    }\n",
       "\n",
       "    .dataframe thead th {\n",
       "        text-align: right;\n",
       "    }\n",
       "</style>\n",
       "<table border=\"1\" class=\"dataframe\">\n",
       "  <thead>\n",
       "    <tr style=\"text-align: right;\">\n",
       "      <th></th>\n",
       "      <th>Airline</th>\n",
       "      <th>Source</th>\n",
       "      <th>Destination</th>\n",
       "      <th>Total_Stops</th>\n",
       "      <th>Additional_Info</th>\n",
       "      <th>Dep_Time</th>\n",
       "      <th>Route</th>\n",
       "      <th>Arrival_Time</th>\n",
       "      <th>Booking_Class</th>\n",
       "      <th>Days_to_Departure</th>\n",
       "      <th>Dep_daytime</th>\n",
       "      <th>Arr_daytime</th>\n",
       "      <th>Journey_day</th>\n",
       "      <th>Journey_month</th>\n",
       "    </tr>\n",
       "  </thead>\n",
       "  <tbody>\n",
       "    <tr>\n",
       "      <th>0</th>\n",
       "      <td>Jet Airways</td>\n",
       "      <td>Delhi</td>\n",
       "      <td>Cochin</td>\n",
       "      <td>1.0</td>\n",
       "      <td>No info</td>\n",
       "      <td>17:30</td>\n",
       "      <td>DEL → BOM → COK</td>\n",
       "      <td>04:25</td>\n",
       "      <td>Economy</td>\n",
       "      <td>97</td>\n",
       "      <td>Evening</td>\n",
       "      <td>Night</td>\n",
       "      <td>6</td>\n",
       "      <td>6</td>\n",
       "    </tr>\n",
       "    <tr>\n",
       "      <th>1</th>\n",
       "      <td>IndiGo</td>\n",
       "      <td>Kolkata</td>\n",
       "      <td>Banglore</td>\n",
       "      <td>1.0</td>\n",
       "      <td>No info</td>\n",
       "      <td>06:20</td>\n",
       "      <td>CCU → MAA → BLR</td>\n",
       "      <td>10:20</td>\n",
       "      <td>Economy</td>\n",
       "      <td>72</td>\n",
       "      <td>Morning</td>\n",
       "      <td>Morning</td>\n",
       "      <td>12</td>\n",
       "      <td>5</td>\n",
       "    </tr>\n",
       "  </tbody>\n",
       "</table>\n",
       "</div>"
      ],
      "text/plain": [
       "       Airline   Source Destination  Total_Stops Additional_Info Dep_Time  \\\n",
       "0  Jet Airways    Delhi      Cochin          1.0         No info    17:30   \n",
       "1       IndiGo  Kolkata    Banglore          1.0         No info    06:20   \n",
       "\n",
       "             Route Arrival_Time Booking_Class  Days_to_Departure Dep_daytime  \\\n",
       "0  DEL → BOM → COK        04:25       Economy                 97     Evening   \n",
       "1  CCU → MAA → BLR        10:20       Economy                 72     Morning   \n",
       "\n",
       "  Arr_daytime  Journey_day  Journey_month  \n",
       "0       Night            6              6  \n",
       "1     Morning           12              5  "
      ]
     },
     "execution_count": 35,
     "metadata": {},
     "output_type": "execute_result"
    }
   ],
   "source": [
    "test_df.head(2)"
   ]
  },
  {
   "cell_type": "markdown",
   "id": "e8405030-0cf8-49db-8f52-f0c612eff9c9",
   "metadata": {},
   "source": [
    "Converted Departure column into hours and mins."
   ]
  },
  {
   "cell_type": "code",
   "execution_count": 37,
   "id": "02b74342-3aed-4438-b98f-383ca046e386",
   "metadata": {},
   "outputs": [],
   "source": [
    "# Departure time is when a plane leaves the gate. \n",
    "# Similar to Date_of_Journey we can extract values from Dep_Time\n",
    "\n",
    "# Extracting Hours\n",
    "train_df[\"Dep_hour\"] = pd.to_datetime(train_df[\"Dep_Time\"]).dt.hour\n",
    "\n",
    "# Extracting Minutes\n",
    "train_df[\"Dep_min\"] = pd.to_datetime(train_df[\"Dep_Time\"]).dt.minute\n",
    "\n",
    "# Now we can drop Dep_Time as it is of no use\n",
    "train_df.drop([\"Dep_Time\"], axis = 1, inplace = True)\n",
    "\n",
    "# Extracting Hours\n",
    "test_df[\"Dep_hour\"] = pd.to_datetime(test_df[\"Dep_Time\"]).dt.hour\n",
    "\n",
    "# Extracting Minutes\n",
    "test_df[\"Dep_min\"] = pd.to_datetime(test_df[\"Dep_Time\"]).dt.minute\n",
    "\n",
    "# Now we can drop Dep_Time as it is of no use\n",
    "test_df.drop([\"Dep_Time\"], axis = 1, inplace = True)"
   ]
  },
  {
   "cell_type": "code",
   "execution_count": 38,
   "id": "3295a253-eb7a-42ed-a909-9c0e6074b8e9",
   "metadata": {},
   "outputs": [
    {
     "data": {
      "text/html": [
       "<div>\n",
       "<style scoped>\n",
       "    .dataframe tbody tr th:only-of-type {\n",
       "        vertical-align: middle;\n",
       "    }\n",
       "\n",
       "    .dataframe tbody tr th {\n",
       "        vertical-align: top;\n",
       "    }\n",
       "\n",
       "    .dataframe thead th {\n",
       "        text-align: right;\n",
       "    }\n",
       "</style>\n",
       "<table border=\"1\" class=\"dataframe\">\n",
       "  <thead>\n",
       "    <tr style=\"text-align: right;\">\n",
       "      <th></th>\n",
       "      <th>Airline</th>\n",
       "      <th>Source</th>\n",
       "      <th>Destination</th>\n",
       "      <th>Total_Stops</th>\n",
       "      <th>Additional_Info</th>\n",
       "      <th>Route</th>\n",
       "      <th>Arrival_Time</th>\n",
       "      <th>Price</th>\n",
       "      <th>Booking_Class</th>\n",
       "      <th>Days_to_Departure</th>\n",
       "      <th>Dep_daytime</th>\n",
       "      <th>Arr_daytime</th>\n",
       "      <th>Journey_day</th>\n",
       "      <th>Journey_month</th>\n",
       "      <th>Dep_hour</th>\n",
       "      <th>Dep_min</th>\n",
       "    </tr>\n",
       "  </thead>\n",
       "  <tbody>\n",
       "    <tr>\n",
       "      <th>0</th>\n",
       "      <td>IndiGo</td>\n",
       "      <td>Banglore</td>\n",
       "      <td>New Delhi</td>\n",
       "      <td>0.0</td>\n",
       "      <td>No info</td>\n",
       "      <td>BLR → DEL</td>\n",
       "      <td>01:10</td>\n",
       "      <td>3897</td>\n",
       "      <td>Economy</td>\n",
       "      <td>23</td>\n",
       "      <td>Night</td>\n",
       "      <td>Night</td>\n",
       "      <td>24</td>\n",
       "      <td>3</td>\n",
       "      <td>22</td>\n",
       "      <td>20</td>\n",
       "    </tr>\n",
       "    <tr>\n",
       "      <th>1</th>\n",
       "      <td>Air India</td>\n",
       "      <td>Kolkata</td>\n",
       "      <td>Banglore</td>\n",
       "      <td>2.0</td>\n",
       "      <td>No info</td>\n",
       "      <td>CCU → IXR → BBI → BLR</td>\n",
       "      <td>13:15</td>\n",
       "      <td>7662</td>\n",
       "      <td>Economy</td>\n",
       "      <td>61</td>\n",
       "      <td>Night</td>\n",
       "      <td>Noon</td>\n",
       "      <td>1</td>\n",
       "      <td>5</td>\n",
       "      <td>5</td>\n",
       "      <td>50</td>\n",
       "    </tr>\n",
       "  </tbody>\n",
       "</table>\n",
       "</div>"
      ],
      "text/plain": [
       "     Airline    Source Destination  Total_Stops Additional_Info  \\\n",
       "0     IndiGo  Banglore   New Delhi          0.0         No info   \n",
       "1  Air India   Kolkata    Banglore          2.0         No info   \n",
       "\n",
       "                   Route Arrival_Time  Price Booking_Class  Days_to_Departure  \\\n",
       "0              BLR → DEL        01:10   3897       Economy                 23   \n",
       "1  CCU → IXR → BBI → BLR        13:15   7662       Economy                 61   \n",
       "\n",
       "  Dep_daytime Arr_daytime  Journey_day  Journey_month  Dep_hour  Dep_min  \n",
       "0       Night       Night           24              3        22       20  \n",
       "1       Night        Noon            1              5         5       50  "
      ]
     },
     "execution_count": 38,
     "metadata": {},
     "output_type": "execute_result"
    }
   ],
   "source": [
    "train_df.head(2)"
   ]
  },
  {
   "cell_type": "markdown",
   "id": "84b7e922-b66a-4c6d-aa45-d5fc47a99524",
   "metadata": {},
   "source": [
    "Converting Arrival time into hours and mins."
   ]
  },
  {
   "cell_type": "code",
   "execution_count": 39,
   "id": "22257d56-f694-4d4e-a2bd-50dd78953bc1",
   "metadata": {},
   "outputs": [],
   "source": [
    "# Arrival time is when the plane pulls up to the gate.\n",
    "# Similar to Date_of_Journey we can extract values from Arrival_Time\n",
    "\n",
    "# Extracting Hours\n",
    "train_df[\"Arrival_hour\"] = pd.to_datetime(train_df.Arrival_Time).dt.hour\n",
    "\n",
    "# Extracting Minutes\n",
    "train_df[\"Arrival_min\"] = pd.to_datetime(train_df.Arrival_Time).dt.minute\n",
    "\n",
    "# Now we can drop Arrival_Time as it is of no use\n",
    "train_df.drop([\"Arrival_Time\"], axis = 1, inplace = True)\n",
    "\n",
    "# Extracting Hours\n",
    "test_df[\"Arrival_hour\"] = pd.to_datetime(test_df.Arrival_Time).dt.hour\n",
    "\n",
    "# Extracting Minutes\n",
    "test_df[\"Arrival_min\"] = pd.to_datetime(test_df.Arrival_Time).dt.minute\n",
    "\n",
    "# Now we can drop Arrival_Time as it is of no use\n",
    "test_df.drop([\"Arrival_Time\"], axis = 1, inplace = True)"
   ]
  },
  {
   "cell_type": "code",
   "execution_count": 40,
   "id": "c0ad070b-19c2-46b2-b428-48fe21aa0fd0",
   "metadata": {},
   "outputs": [
    {
     "data": {
      "text/html": [
       "<div>\n",
       "<style scoped>\n",
       "    .dataframe tbody tr th:only-of-type {\n",
       "        vertical-align: middle;\n",
       "    }\n",
       "\n",
       "    .dataframe tbody tr th {\n",
       "        vertical-align: top;\n",
       "    }\n",
       "\n",
       "    .dataframe thead th {\n",
       "        text-align: right;\n",
       "    }\n",
       "</style>\n",
       "<table border=\"1\" class=\"dataframe\">\n",
       "  <thead>\n",
       "    <tr style=\"text-align: right;\">\n",
       "      <th></th>\n",
       "      <th>Airline</th>\n",
       "      <th>Source</th>\n",
       "      <th>Destination</th>\n",
       "      <th>Total_Stops</th>\n",
       "      <th>Additional_Info</th>\n",
       "      <th>Route</th>\n",
       "      <th>Booking_Class</th>\n",
       "      <th>Days_to_Departure</th>\n",
       "      <th>Dep_daytime</th>\n",
       "      <th>Arr_daytime</th>\n",
       "      <th>Journey_day</th>\n",
       "      <th>Journey_month</th>\n",
       "      <th>Dep_hour</th>\n",
       "      <th>Dep_min</th>\n",
       "      <th>Arrival_hour</th>\n",
       "      <th>Arrival_min</th>\n",
       "    </tr>\n",
       "  </thead>\n",
       "  <tbody>\n",
       "    <tr>\n",
       "      <th>0</th>\n",
       "      <td>Jet Airways</td>\n",
       "      <td>Delhi</td>\n",
       "      <td>Cochin</td>\n",
       "      <td>1.0</td>\n",
       "      <td>No info</td>\n",
       "      <td>DEL → BOM → COK</td>\n",
       "      <td>Economy</td>\n",
       "      <td>97</td>\n",
       "      <td>Evening</td>\n",
       "      <td>Night</td>\n",
       "      <td>6</td>\n",
       "      <td>6</td>\n",
       "      <td>17</td>\n",
       "      <td>30</td>\n",
       "      <td>4</td>\n",
       "      <td>25</td>\n",
       "    </tr>\n",
       "    <tr>\n",
       "      <th>1</th>\n",
       "      <td>IndiGo</td>\n",
       "      <td>Kolkata</td>\n",
       "      <td>Banglore</td>\n",
       "      <td>1.0</td>\n",
       "      <td>No info</td>\n",
       "      <td>CCU → MAA → BLR</td>\n",
       "      <td>Economy</td>\n",
       "      <td>72</td>\n",
       "      <td>Morning</td>\n",
       "      <td>Morning</td>\n",
       "      <td>12</td>\n",
       "      <td>5</td>\n",
       "      <td>6</td>\n",
       "      <td>20</td>\n",
       "      <td>10</td>\n",
       "      <td>20</td>\n",
       "    </tr>\n",
       "  </tbody>\n",
       "</table>\n",
       "</div>"
      ],
      "text/plain": [
       "       Airline   Source Destination  Total_Stops Additional_Info  \\\n",
       "0  Jet Airways    Delhi      Cochin          1.0         No info   \n",
       "1       IndiGo  Kolkata    Banglore          1.0         No info   \n",
       "\n",
       "             Route Booking_Class  Days_to_Departure Dep_daytime Arr_daytime  \\\n",
       "0  DEL → BOM → COK       Economy                 97     Evening       Night   \n",
       "1  CCU → MAA → BLR       Economy                 72     Morning     Morning   \n",
       "\n",
       "   Journey_day  Journey_month  Dep_hour  Dep_min  Arrival_hour  Arrival_min  \n",
       "0            6              6        17       30             4           25  \n",
       "1           12              5         6       20            10           20  "
      ]
     },
     "execution_count": 40,
     "metadata": {},
     "output_type": "execute_result"
    }
   ],
   "source": [
    "test_df.head(2)"
   ]
  },
  {
   "cell_type": "markdown",
   "id": "83b6b39c-98c3-4434-9e18-f57cff364fe9",
   "metadata": {},
   "source": [
    "## Handling Categorical Data"
   ]
  },
  {
   "cell_type": "code",
   "execution_count": 42,
   "id": "93a28d14-3311-4d4e-af1a-003e43d33157",
   "metadata": {},
   "outputs": [
    {
     "data": {
      "text/plain": [
       "Airline\n",
       "Jet Airways                          3849\n",
       "IndiGo                               2053\n",
       "Air India                            1752\n",
       "Multiple carriers                    1196\n",
       "SpiceJet                              818\n",
       "Vistara                               479\n",
       "Air Asia                              319\n",
       "GoAir                                 194\n",
       "Multiple carriers Premium economy      13\n",
       "Jet Airways Business                    6\n",
       "Vistara Premium economy                 3\n",
       "Trujet                                  1\n",
       "Name: count, dtype: int64"
      ]
     },
     "execution_count": 42,
     "metadata": {},
     "output_type": "execute_result"
    }
   ],
   "source": [
    "train_df[\"Airline\"].value_counts()"
   ]
  },
  {
   "cell_type": "code",
   "execution_count": 43,
   "id": "75d1fba5-583c-401a-b1e1-7593f2b1daa2",
   "metadata": {},
   "outputs": [
    {
     "data": {
      "image/png": "[encoded data removed]",
      "text/plain": [
       "<Figure size 1800x600 with 1 Axes>"
      ]
     },
     "metadata": {},
     "output_type": "display_data"
    }
   ],
   "source": [
    "import seaborn as sns\n",
    "sns.set()\n",
    "# From graph we can see that Jet Airways Business have the highest Price.\n",
    "# Apart from the first Airline almost all are having similar median\n",
    "\n",
    "# Airline vs Price\n",
    "sns.catplot(y = \"Price\", x = \"Airline\", data = train_df.sort_values(\"Price\", ascending = False), kind=\"boxen\", height = 6, aspect = 3)\n",
    "plt.show()"
   ]
  },
  {
   "cell_type": "code",
   "execution_count": 44,
   "id": "e2a0a4f9-4bf4-4dec-8e3a-b3b7f63161d7",
   "metadata": {},
   "outputs": [
    {
     "data": {
      "text/html": [
       "<div>\n",
       "<style scoped>\n",
       "    .dataframe tbody tr th:only-of-type {\n",
       "        vertical-align: middle;\n",
       "    }\n",
       "\n",
       "    .dataframe tbody tr th {\n",
       "        vertical-align: top;\n",
       "    }\n",
       "\n",
       "    .dataframe thead th {\n",
       "        text-align: right;\n",
       "    }\n",
       "</style>\n",
       "<table border=\"1\" class=\"dataframe\">\n",
       "  <thead>\n",
       "    <tr style=\"text-align: right;\">\n",
       "      <th></th>\n",
       "      <th>Airline_Air India</th>\n",
       "      <th>Airline_GoAir</th>\n",
       "      <th>Airline_IndiGo</th>\n",
       "      <th>Airline_Jet Airways</th>\n",
       "      <th>Airline_Jet Airways Business</th>\n",
       "      <th>Airline_Multiple carriers</th>\n",
       "      <th>Airline_Multiple carriers Premium economy</th>\n",
       "      <th>Airline_SpiceJet</th>\n",
       "      <th>Airline_Vistara</th>\n",
       "      <th>Airline_Vistara Premium economy</th>\n",
       "    </tr>\n",
       "  </thead>\n",
       "  <tbody>\n",
       "    <tr>\n",
       "      <th>0</th>\n",
       "      <td>0</td>\n",
       "      <td>0</td>\n",
       "      <td>0</td>\n",
       "      <td>1</td>\n",
       "      <td>0</td>\n",
       "      <td>0</td>\n",
       "      <td>0</td>\n",
       "      <td>0</td>\n",
       "      <td>0</td>\n",
       "      <td>0</td>\n",
       "    </tr>\n",
       "    <tr>\n",
       "      <th>1</th>\n",
       "      <td>0</td>\n",
       "      <td>0</td>\n",
       "      <td>1</td>\n",
       "      <td>0</td>\n",
       "      <td>0</td>\n",
       "      <td>0</td>\n",
       "      <td>0</td>\n",
       "      <td>0</td>\n",
       "      <td>0</td>\n",
       "      <td>0</td>\n",
       "    </tr>\n",
       "    <tr>\n",
       "      <th>2</th>\n",
       "      <td>0</td>\n",
       "      <td>0</td>\n",
       "      <td>0</td>\n",
       "      <td>1</td>\n",
       "      <td>0</td>\n",
       "      <td>0</td>\n",
       "      <td>0</td>\n",
       "      <td>0</td>\n",
       "      <td>0</td>\n",
       "      <td>0</td>\n",
       "    </tr>\n",
       "    <tr>\n",
       "      <th>3</th>\n",
       "      <td>0</td>\n",
       "      <td>0</td>\n",
       "      <td>0</td>\n",
       "      <td>0</td>\n",
       "      <td>0</td>\n",
       "      <td>1</td>\n",
       "      <td>0</td>\n",
       "      <td>0</td>\n",
       "      <td>0</td>\n",
       "      <td>0</td>\n",
       "    </tr>\n",
       "    <tr>\n",
       "      <th>4</th>\n",
       "      <td>0</td>\n",
       "      <td>0</td>\n",
       "      <td>0</td>\n",
       "      <td>0</td>\n",
       "      <td>0</td>\n",
       "      <td>0</td>\n",
       "      <td>0</td>\n",
       "      <td>0</td>\n",
       "      <td>0</td>\n",
       "      <td>0</td>\n",
       "    </tr>\n",
       "  </tbody>\n",
       "</table>\n",
       "</div>"
      ],
      "text/plain": [
       "   Airline_Air India  Airline_GoAir  Airline_IndiGo  Airline_Jet Airways  \\\n",
       "0                  0              0               0                    1   \n",
       "1                  0              0               1                    0   \n",
       "2                  0              0               0                    1   \n",
       "3                  0              0               0                    0   \n",
       "4                  0              0               0                    0   \n",
       "\n",
       "   Airline_Jet Airways Business  Airline_Multiple carriers  \\\n",
       "0                             0                          0   \n",
       "1                             0                          0   \n",
       "2                             0                          0   \n",
       "3                             0                          1   \n",
       "4                             0                          0   \n",
       "\n",
       "   Airline_Multiple carriers Premium economy  Airline_SpiceJet  \\\n",
       "0                                          0                 0   \n",
       "1                                          0                 0   \n",
       "2                                          0                 0   \n",
       "3                                          0                 0   \n",
       "4                                          0                 0   \n",
       "\n",
       "   Airline_Vistara  Airline_Vistara Premium economy  \n",
       "0                0                                0  \n",
       "1                0                                0  \n",
       "2                0                                0  \n",
       "3                0                                0  \n",
       "4                0                                0  "
      ]
     },
     "execution_count": 44,
     "metadata": {},
     "output_type": "execute_result"
    }
   ],
   "source": [
    "# As Airline is Nominal Categorical data we will perform OneHotEncoding\n",
    "\n",
    "Airline = train_df[[\"Airline\"]]\n",
    "\n",
    "Airline = pd.get_dummies(Airline, drop_first= True).astype(int)\n",
    "\n",
    "\n",
    "\n",
    "Airline = test_df[[\"Airline\"]]\n",
    "\n",
    "Airline = pd.get_dummies(Airline, drop_first= True).astype(int)\n",
    "\n",
    "Airline.head()"
   ]
  },
  {
   "cell_type": "code",
   "execution_count": 45,
   "id": "0a419ab3-c69b-4f49-854f-712d4fc5b932",
   "metadata": {},
   "outputs": [
    {
     "data": {
      "text/plain": [
       "Source\n",
       "Delhi       4537\n",
       "Kolkata     2871\n",
       "Banglore    2197\n",
       "Mumbai       697\n",
       "Chennai      381\n",
       "Name: count, dtype: int64"
      ]
     },
     "execution_count": 45,
     "metadata": {},
     "output_type": "execute_result"
    }
   ],
   "source": [
    "train_df[\"Source\"].value_counts()"
   ]
  },
  {
   "cell_type": "code",
   "execution_count": 46,
   "id": "dff3a44d-1682-4815-b053-7d43c103b6ac",
   "metadata": {},
   "outputs": [
    {
     "data": {
      "image/png": "[encoded data removed]",
      "text/plain": [
       "<Figure size 1200x400 with 1 Axes>"
      ]
     },
     "metadata": {},
     "output_type": "display_data"
    }
   ],
   "source": [
    "# Source vs Price\n",
    "\n",
    "sns.catplot(y = \"Price\", x = \"Source\", data = train_df.sort_values(\"Price\", ascending = False), kind=\"boxen\", height = 4, aspect = 3)\n",
    "plt.show()"
   ]
  },
  {
   "cell_type": "code",
   "execution_count": 47,
   "id": "8d2f4777-6dc6-4cf6-9a1c-ef1de8648f60",
   "metadata": {},
   "outputs": [
    {
     "data": {
      "text/html": [
       "<div>\n",
       "<style scoped>\n",
       "    .dataframe tbody tr th:only-of-type {\n",
       "        vertical-align: middle;\n",
       "    }\n",
       "\n",
       "    .dataframe tbody tr th {\n",
       "        vertical-align: top;\n",
       "    }\n",
       "\n",
       "    .dataframe thead th {\n",
       "        text-align: right;\n",
       "    }\n",
       "</style>\n",
       "<table border=\"1\" class=\"dataframe\">\n",
       "  <thead>\n",
       "    <tr style=\"text-align: right;\">\n",
       "      <th></th>\n",
       "      <th>Source_Chennai</th>\n",
       "      <th>Source_Delhi</th>\n",
       "      <th>Source_Kolkata</th>\n",
       "      <th>Source_Mumbai</th>\n",
       "    </tr>\n",
       "  </thead>\n",
       "  <tbody>\n",
       "    <tr>\n",
       "      <th>0</th>\n",
       "      <td>0</td>\n",
       "      <td>1</td>\n",
       "      <td>0</td>\n",
       "      <td>0</td>\n",
       "    </tr>\n",
       "    <tr>\n",
       "      <th>1</th>\n",
       "      <td>0</td>\n",
       "      <td>0</td>\n",
       "      <td>1</td>\n",
       "      <td>0</td>\n",
       "    </tr>\n",
       "    <tr>\n",
       "      <th>2</th>\n",
       "      <td>0</td>\n",
       "      <td>1</td>\n",
       "      <td>0</td>\n",
       "      <td>0</td>\n",
       "    </tr>\n",
       "    <tr>\n",
       "      <th>3</th>\n",
       "      <td>0</td>\n",
       "      <td>1</td>\n",
       "      <td>0</td>\n",
       "      <td>0</td>\n",
       "    </tr>\n",
       "    <tr>\n",
       "      <th>4</th>\n",
       "      <td>0</td>\n",
       "      <td>0</td>\n",
       "      <td>0</td>\n",
       "      <td>0</td>\n",
       "    </tr>\n",
       "  </tbody>\n",
       "</table>\n",
       "</div>"
      ],
      "text/plain": [
       "   Source_Chennai  Source_Delhi  Source_Kolkata  Source_Mumbai\n",
       "0               0             1               0              0\n",
       "1               0             0               1              0\n",
       "2               0             1               0              0\n",
       "3               0             1               0              0\n",
       "4               0             0               0              0"
      ]
     },
     "execution_count": 47,
     "metadata": {},
     "output_type": "execute_result"
    }
   ],
   "source": [
    "# As Source is Nominal Categorical data we will perform OneHotEncoding\n",
    "\n",
    "Source = train_df[[\"Source\"]]\n",
    "\n",
    "Source = pd.get_dummies(Source, drop_first= True).astype(int)\n",
    "\n",
    "\n",
    "\n",
    "Source = test_df[[\"Source\"]]\n",
    "\n",
    "Source = pd.get_dummies(Source, drop_first= True).astype(int)\n",
    "\n",
    "Source.head()"
   ]
  },
  {
   "cell_type": "code",
   "execution_count": 48,
   "id": "78f6d359-2973-4c27-a1cf-c4091e90cad4",
   "metadata": {},
   "outputs": [
    {
     "data": {
      "text/plain": [
       "Destination\n",
       "Cochin       4537\n",
       "Banglore     2871\n",
       "Delhi        1265\n",
       "New Delhi     932\n",
       "Hyderabad     697\n",
       "Kolkata       381\n",
       "Name: count, dtype: int64"
      ]
     },
     "execution_count": 48,
     "metadata": {},
     "output_type": "execute_result"
    }
   ],
   "source": [
    "train_df[\"Destination\"].value_counts()"
   ]
  },
  {
   "cell_type": "code",
   "execution_count": 49,
   "id": "d8ffcf54-51b7-4263-87d6-77fcb5c90421",
   "metadata": {},
   "outputs": [
    {
     "data": {
      "text/html": [
       "<div>\n",
       "<style scoped>\n",
       "    .dataframe tbody tr th:only-of-type {\n",
       "        vertical-align: middle;\n",
       "    }\n",
       "\n",
       "    .dataframe tbody tr th {\n",
       "        vertical-align: top;\n",
       "    }\n",
       "\n",
       "    .dataframe thead th {\n",
       "        text-align: right;\n",
       "    }\n",
       "</style>\n",
       "<table border=\"1\" class=\"dataframe\">\n",
       "  <thead>\n",
       "    <tr style=\"text-align: right;\">\n",
       "      <th></th>\n",
       "      <th>Destination_Cochin</th>\n",
       "      <th>Destination_Delhi</th>\n",
       "      <th>Destination_Hyderabad</th>\n",
       "      <th>Destination_Kolkata</th>\n",
       "      <th>Destination_New Delhi</th>\n",
       "    </tr>\n",
       "  </thead>\n",
       "  <tbody>\n",
       "    <tr>\n",
       "      <th>0</th>\n",
       "      <td>1</td>\n",
       "      <td>0</td>\n",
       "      <td>0</td>\n",
       "      <td>0</td>\n",
       "      <td>0</td>\n",
       "    </tr>\n",
       "    <tr>\n",
       "      <th>1</th>\n",
       "      <td>0</td>\n",
       "      <td>0</td>\n",
       "      <td>0</td>\n",
       "      <td>0</td>\n",
       "      <td>0</td>\n",
       "    </tr>\n",
       "    <tr>\n",
       "      <th>2</th>\n",
       "      <td>1</td>\n",
       "      <td>0</td>\n",
       "      <td>0</td>\n",
       "      <td>0</td>\n",
       "      <td>0</td>\n",
       "    </tr>\n",
       "    <tr>\n",
       "      <th>3</th>\n",
       "      <td>1</td>\n",
       "      <td>0</td>\n",
       "      <td>0</td>\n",
       "      <td>0</td>\n",
       "      <td>0</td>\n",
       "    </tr>\n",
       "    <tr>\n",
       "      <th>4</th>\n",
       "      <td>0</td>\n",
       "      <td>1</td>\n",
       "      <td>0</td>\n",
       "      <td>0</td>\n",
       "      <td>0</td>\n",
       "    </tr>\n",
       "  </tbody>\n",
       "</table>\n",
       "</div>"
      ],
      "text/plain": [
       "   Destination_Cochin  Destination_Delhi  Destination_Hyderabad  \\\n",
       "0                   1                  0                      0   \n",
       "1                   0                  0                      0   \n",
       "2                   1                  0                      0   \n",
       "3                   1                  0                      0   \n",
       "4                   0                  1                      0   \n",
       "\n",
       "   Destination_Kolkata  Destination_New Delhi  \n",
       "0                    0                      0  \n",
       "1                    0                      0  \n",
       "2                    0                      0  \n",
       "3                    0                      0  \n",
       "4                    0                      0  "
      ]
     },
     "execution_count": 49,
     "metadata": {},
     "output_type": "execute_result"
    }
   ],
   "source": [
    "# As Destination is Nominal Categorical data we will perform OneHotEncoding\n",
    "\n",
    "Destination = train_df[[\"Destination\"]]\n",
    "\n",
    "Destination = pd.get_dummies(Destination, drop_first = True).astype(int)\n",
    "\n",
    "\n",
    "\n",
    "Destination = test_df[[\"Destination\"]]\n",
    "\n",
    "Destination = pd.get_dummies(Destination, drop_first = True).astype(int)\n",
    "\n",
    "Destination.head()\n"
   ]
  },
  {
   "cell_type": "code",
   "execution_count": 50,
   "id": "136bae98-7eac-4069-a52f-2bf60ecb79dc",
   "metadata": {},
   "outputs": [
    {
     "data": {
      "text/plain": [
       "Booking_Class\n",
       "Economy            10661\n",
       "Premium Economy       16\n",
       "Business               6\n",
       "Name: count, dtype: int64"
      ]
     },
     "execution_count": 50,
     "metadata": {},
     "output_type": "execute_result"
    }
   ],
   "source": [
    "train_df[\"Booking_Class\"].value_counts()"
   ]
  },
  {
   "cell_type": "code",
   "execution_count": 51,
   "id": "48db741c-2063-4d29-8811-02ff0140babe",
   "metadata": {},
   "outputs": [
    {
     "data": {
      "text/html": [
       "<div>\n",
       "<style scoped>\n",
       "    .dataframe tbody tr th:only-of-type {\n",
       "        vertical-align: middle;\n",
       "    }\n",
       "\n",
       "    .dataframe tbody tr th {\n",
       "        vertical-align: top;\n",
       "    }\n",
       "\n",
       "    .dataframe thead th {\n",
       "        text-align: right;\n",
       "    }\n",
       "</style>\n",
       "<table border=\"1\" class=\"dataframe\">\n",
       "  <thead>\n",
       "    <tr style=\"text-align: right;\">\n",
       "      <th></th>\n",
       "      <th>Booking_Class_Economy</th>\n",
       "      <th>Booking_Class_Premium Economy</th>\n",
       "    </tr>\n",
       "  </thead>\n",
       "  <tbody>\n",
       "    <tr>\n",
       "      <th>0</th>\n",
       "      <td>1</td>\n",
       "      <td>0</td>\n",
       "    </tr>\n",
       "    <tr>\n",
       "      <th>1</th>\n",
       "      <td>1</td>\n",
       "      <td>0</td>\n",
       "    </tr>\n",
       "    <tr>\n",
       "      <th>2</th>\n",
       "      <td>1</td>\n",
       "      <td>0</td>\n",
       "    </tr>\n",
       "    <tr>\n",
       "      <th>3</th>\n",
       "      <td>1</td>\n",
       "      <td>0</td>\n",
       "    </tr>\n",
       "    <tr>\n",
       "      <th>4</th>\n",
       "      <td>1</td>\n",
       "      <td>0</td>\n",
       "    </tr>\n",
       "  </tbody>\n",
       "</table>\n",
       "</div>"
      ],
      "text/plain": [
       "   Booking_Class_Economy  Booking_Class_Premium Economy\n",
       "0                      1                              0\n",
       "1                      1                              0\n",
       "2                      1                              0\n",
       "3                      1                              0\n",
       "4                      1                              0"
      ]
     },
     "execution_count": 51,
     "metadata": {},
     "output_type": "execute_result"
    }
   ],
   "source": [
    "# As Booking_class is Nominal Categorical data we will perform OneHotEncoding\n",
    "\n",
    "Booking_Class = train_df[[\"Booking_Class\"]]\n",
    "\n",
    "Booking_Class = pd.get_dummies(Booking_Class, drop_first = True).astype(int)\n",
    "\n",
    "\n",
    "\n",
    "Booking_Class = test_df[[\"Booking_Class\"]]\n",
    "\n",
    "Booking_Class = pd.get_dummies(Booking_Class, drop_first = True).astype(int)\n",
    "\n",
    "Booking_Class.head()"
   ]
  },
  {
   "cell_type": "code",
   "execution_count": 52,
   "id": "28116796-b1d0-474a-9fb4-a6426d07f3de",
   "metadata": {},
   "outputs": [
    {
     "data": {
      "text/plain": [
       "Dep_daytime\n",
       "Morning    4283\n",
       "Night      2785\n",
       "Noon       1909\n",
       "Evening    1706\n",
       "Name: count, dtype: int64"
      ]
     },
     "execution_count": 52,
     "metadata": {},
     "output_type": "execute_result"
    }
   ],
   "source": [
    "train_df[\"Dep_daytime\"].value_counts()"
   ]
  },
  {
   "cell_type": "code",
   "execution_count": 53,
   "id": "b2bfdbf3-90d2-4a53-a193-80285697c098",
   "metadata": {},
   "outputs": [
    {
     "data": {
      "text/html": [
       "<div>\n",
       "<style scoped>\n",
       "    .dataframe tbody tr th:only-of-type {\n",
       "        vertical-align: middle;\n",
       "    }\n",
       "\n",
       "    .dataframe tbody tr th {\n",
       "        vertical-align: top;\n",
       "    }\n",
       "\n",
       "    .dataframe thead th {\n",
       "        text-align: right;\n",
       "    }\n",
       "</style>\n",
       "<table border=\"1\" class=\"dataframe\">\n",
       "  <thead>\n",
       "    <tr style=\"text-align: right;\">\n",
       "      <th></th>\n",
       "      <th>Dep_daytime_Morning</th>\n",
       "      <th>Dep_daytime_Night</th>\n",
       "      <th>Dep_daytime_Noon</th>\n",
       "    </tr>\n",
       "  </thead>\n",
       "  <tbody>\n",
       "    <tr>\n",
       "      <th>0</th>\n",
       "      <td>0</td>\n",
       "      <td>0</td>\n",
       "      <td>0</td>\n",
       "    </tr>\n",
       "    <tr>\n",
       "      <th>1</th>\n",
       "      <td>1</td>\n",
       "      <td>0</td>\n",
       "      <td>0</td>\n",
       "    </tr>\n",
       "    <tr>\n",
       "      <th>2</th>\n",
       "      <td>0</td>\n",
       "      <td>0</td>\n",
       "      <td>0</td>\n",
       "    </tr>\n",
       "    <tr>\n",
       "      <th>3</th>\n",
       "      <td>1</td>\n",
       "      <td>0</td>\n",
       "      <td>0</td>\n",
       "    </tr>\n",
       "    <tr>\n",
       "      <th>4</th>\n",
       "      <td>0</td>\n",
       "      <td>1</td>\n",
       "      <td>0</td>\n",
       "    </tr>\n",
       "  </tbody>\n",
       "</table>\n",
       "</div>"
      ],
      "text/plain": [
       "   Dep_daytime_Morning  Dep_daytime_Night  Dep_daytime_Noon\n",
       "0                    0                  0                 0\n",
       "1                    1                  0                 0\n",
       "2                    0                  0                 0\n",
       "3                    1                  0                 0\n",
       "4                    0                  1                 0"
      ]
     },
     "execution_count": 53,
     "metadata": {},
     "output_type": "execute_result"
    }
   ],
   "source": [
    "# As Dep_daytime is Nominal Categorical data we will perform OneHotEncoding\n",
    "\n",
    "Dep_daytime = train_df[[\"Dep_daytime\"]]\n",
    "\n",
    "Dep_daytime = pd.get_dummies(Dep_daytime, drop_first = True).astype(int)\n",
    "\n",
    "\n",
    "\n",
    "Dep_daytime = test_df[[\"Dep_daytime\"]]\n",
    "\n",
    "Dep_daytime = pd.get_dummies(Dep_daytime, drop_first = True).astype(int)\n",
    "\n",
    "Dep_daytime.head()"
   ]
  },
  {
   "cell_type": "code",
   "execution_count": 54,
   "id": "77a70537-f294-4905-b64f-a3aa442bf1c1",
   "metadata": {},
   "outputs": [
    {
     "data": {
      "text/plain": [
       "Arr_daytime\n",
       "Night      4096\n",
       "Evening    2331\n",
       "Morning    2204\n",
       "Noon       2052\n",
       "Name: count, dtype: int64"
      ]
     },
     "execution_count": 54,
     "metadata": {},
     "output_type": "execute_result"
    }
   ],
   "source": [
    "train_df[\"Arr_daytime\"].value_counts()"
   ]
  },
  {
   "cell_type": "code",
   "execution_count": 55,
   "id": "acd6acc6-373c-41ad-9741-a9bcd78d0b12",
   "metadata": {},
   "outputs": [
    {
     "data": {
      "text/html": [
       "<div>\n",
       "<style scoped>\n",
       "    .dataframe tbody tr th:only-of-type {\n",
       "        vertical-align: middle;\n",
       "    }\n",
       "\n",
       "    .dataframe tbody tr th {\n",
       "        vertical-align: top;\n",
       "    }\n",
       "\n",
       "    .dataframe thead th {\n",
       "        text-align: right;\n",
       "    }\n",
       "</style>\n",
       "<table border=\"1\" class=\"dataframe\">\n",
       "  <thead>\n",
       "    <tr style=\"text-align: right;\">\n",
       "      <th></th>\n",
       "      <th>Arr_daytime_Morning</th>\n",
       "      <th>Arr_daytime_Night</th>\n",
       "      <th>Arr_daytime_Noon</th>\n",
       "    </tr>\n",
       "  </thead>\n",
       "  <tbody>\n",
       "    <tr>\n",
       "      <th>0</th>\n",
       "      <td>0</td>\n",
       "      <td>1</td>\n",
       "      <td>0</td>\n",
       "    </tr>\n",
       "    <tr>\n",
       "      <th>1</th>\n",
       "      <td>1</td>\n",
       "      <td>0</td>\n",
       "      <td>0</td>\n",
       "    </tr>\n",
       "    <tr>\n",
       "      <th>2</th>\n",
       "      <td>0</td>\n",
       "      <td>0</td>\n",
       "      <td>0</td>\n",
       "    </tr>\n",
       "    <tr>\n",
       "      <th>3</th>\n",
       "      <td>0</td>\n",
       "      <td>1</td>\n",
       "      <td>0</td>\n",
       "    </tr>\n",
       "    <tr>\n",
       "      <th>4</th>\n",
       "      <td>0</td>\n",
       "      <td>1</td>\n",
       "      <td>0</td>\n",
       "    </tr>\n",
       "  </tbody>\n",
       "</table>\n",
       "</div>"
      ],
      "text/plain": [
       "   Arr_daytime_Morning  Arr_daytime_Night  Arr_daytime_Noon\n",
       "0                    0                  1                 0\n",
       "1                    1                  0                 0\n",
       "2                    0                  0                 0\n",
       "3                    0                  1                 0\n",
       "4                    0                  1                 0"
      ]
     },
     "execution_count": 55,
     "metadata": {},
     "output_type": "execute_result"
    }
   ],
   "source": [
    "# As Dep_daytime is Nominal Categorical data we will perform OneHotEncoding\n",
    "\n",
    "Arr_daytime = train_df[[\"Arr_daytime\"]]\n",
    "\n",
    "Arr_daytime = pd.get_dummies(Arr_daytime, drop_first = True).astype(int)\n",
    "\n",
    "\n",
    "\n",
    "Arr_daytime = test_df[[\"Arr_daytime\"]]\n",
    "\n",
    "Arr_daytime = pd.get_dummies(Arr_daytime, drop_first = True).astype(int)\n",
    "\n",
    "Arr_daytime.head()"
   ]
  },
  {
   "cell_type": "code",
   "execution_count": 56,
   "id": "80c54bf5-8a3f-4101-88f9-bf776a2b9e59",
   "metadata": {},
   "outputs": [
    {
     "data": {
      "text/plain": [
       "0                    BLR → DEL\n",
       "1        CCU → IXR → BBI → BLR\n",
       "2        DEL → LKO → BOM → COK\n",
       "3              CCU → NAG → BLR\n",
       "4              BLR → NAG → DEL\n",
       "                 ...          \n",
       "10678                CCU → BLR\n",
       "10679                CCU → BLR\n",
       "10680                BLR → DEL\n",
       "10681                BLR → DEL\n",
       "10682    DEL → GOI → BOM → COK\n",
       "Name: Route, Length: 10683, dtype: object"
      ]
     },
     "execution_count": 56,
     "metadata": {},
     "output_type": "execute_result"
    }
   ],
   "source": [
    "train_df[\"Route\"]"
   ]
  },
  {
   "cell_type": "code",
   "execution_count": 57,
   "id": "4d00faec-baa0-4af8-bff5-e548505207d1",
   "metadata": {},
   "outputs": [],
   "source": [
    "# Additional_Info contains almost 80% no_info\n",
    "# Route and Total_Stops are related to each other\n",
    "\n",
    "train_df.drop([\"Route\", \"Additional_Info\"], axis = 1, inplace = True)\n",
    "test_df.drop([\"Route\", \"Additional_Info\"], axis = 1, inplace = True)"
   ]
  },
  {
   "cell_type": "code",
   "execution_count": 58,
   "id": "fa5a5765-c921-41e5-94dc-efd2d2278945",
   "metadata": {},
   "outputs": [
    {
     "data": {
      "text/plain": [
       "Total_Stops\n",
       "1.0    5625\n",
       "0.0    3492\n",
       "2.0    1520\n",
       "3.0      45\n",
       "4.0       1\n",
       "Name: count, dtype: int64"
      ]
     },
     "execution_count": 58,
     "metadata": {},
     "output_type": "execute_result"
    }
   ],
   "source": [
    "train_df[\"Total_Stops\"].value_counts()"
   ]
  },
  {
   "cell_type": "code",
   "execution_count": 59,
   "id": "975b5869-fa82-4897-9288-90764722fbfb",
   "metadata": {},
   "outputs": [],
   "source": [
    "# As this is case of Ordinal Categorical type we perform LabelEncoder\n",
    "# Here Values are assigned with corresponding keys\n",
    "\n",
    "train_df.replace({\"non-stop\": 0, \"1 stop\": 1, \"2 stops\": 2, \"3 stops\": 3, \"4 stops\": 4}, inplace = True)\n",
    "test_df.replace({\"non-stop\": 0, \"1 stop\": 1, \"2 stops\": 2, \"3 stops\": 3, \"4 stops\": 4}, inplace = True)\n"
   ]
  },
  {
   "cell_type": "code",
   "execution_count": 60,
   "id": "998b75d1-759f-469b-a66d-2392f712ff7c",
   "metadata": {},
   "outputs": [
    {
     "data": {
      "text/html": [
       "<div>\n",
       "<style scoped>\n",
       "    .dataframe tbody tr th:only-of-type {\n",
       "        vertical-align: middle;\n",
       "    }\n",
       "\n",
       "    .dataframe tbody tr th {\n",
       "        vertical-align: top;\n",
       "    }\n",
       "\n",
       "    .dataframe thead th {\n",
       "        text-align: right;\n",
       "    }\n",
       "</style>\n",
       "<table border=\"1\" class=\"dataframe\">\n",
       "  <thead>\n",
       "    <tr style=\"text-align: right;\">\n",
       "      <th></th>\n",
       "      <th>Airline</th>\n",
       "      <th>Source</th>\n",
       "      <th>Destination</th>\n",
       "      <th>Total_Stops</th>\n",
       "      <th>Price</th>\n",
       "      <th>Booking_Class</th>\n",
       "      <th>Days_to_Departure</th>\n",
       "      <th>Dep_daytime</th>\n",
       "      <th>Arr_daytime</th>\n",
       "      <th>Journey_day</th>\n",
       "      <th>Journey_month</th>\n",
       "      <th>Dep_hour</th>\n",
       "      <th>Dep_min</th>\n",
       "      <th>Arrival_hour</th>\n",
       "      <th>Arrival_min</th>\n",
       "    </tr>\n",
       "  </thead>\n",
       "  <tbody>\n",
       "    <tr>\n",
       "      <th>0</th>\n",
       "      <td>IndiGo</td>\n",
       "      <td>Banglore</td>\n",
       "      <td>New Delhi</td>\n",
       "      <td>0.0</td>\n",
       "      <td>3897</td>\n",
       "      <td>Economy</td>\n",
       "      <td>23</td>\n",
       "      <td>Night</td>\n",
       "      <td>Night</td>\n",
       "      <td>24</td>\n",
       "      <td>3</td>\n",
       "      <td>22</td>\n",
       "      <td>20</td>\n",
       "      <td>1</td>\n",
       "      <td>10</td>\n",
       "    </tr>\n",
       "    <tr>\n",
       "      <th>1</th>\n",
       "      <td>Air India</td>\n",
       "      <td>Kolkata</td>\n",
       "      <td>Banglore</td>\n",
       "      <td>2.0</td>\n",
       "      <td>7662</td>\n",
       "      <td>Economy</td>\n",
       "      <td>61</td>\n",
       "      <td>Night</td>\n",
       "      <td>Noon</td>\n",
       "      <td>1</td>\n",
       "      <td>5</td>\n",
       "      <td>5</td>\n",
       "      <td>50</td>\n",
       "      <td>13</td>\n",
       "      <td>15</td>\n",
       "    </tr>\n",
       "    <tr>\n",
       "      <th>2</th>\n",
       "      <td>Jet Airways</td>\n",
       "      <td>Delhi</td>\n",
       "      <td>Cochin</td>\n",
       "      <td>2.0</td>\n",
       "      <td>13882</td>\n",
       "      <td>Economy</td>\n",
       "      <td>100</td>\n",
       "      <td>Morning</td>\n",
       "      <td>Night</td>\n",
       "      <td>9</td>\n",
       "      <td>6</td>\n",
       "      <td>9</td>\n",
       "      <td>25</td>\n",
       "      <td>4</td>\n",
       "      <td>25</td>\n",
       "    </tr>\n",
       "    <tr>\n",
       "      <th>3</th>\n",
       "      <td>IndiGo</td>\n",
       "      <td>Kolkata</td>\n",
       "      <td>Banglore</td>\n",
       "      <td>1.0</td>\n",
       "      <td>6218</td>\n",
       "      <td>Economy</td>\n",
       "      <td>72</td>\n",
       "      <td>Evening</td>\n",
       "      <td>Night</td>\n",
       "      <td>12</td>\n",
       "      <td>5</td>\n",
       "      <td>18</td>\n",
       "      <td>5</td>\n",
       "      <td>23</td>\n",
       "      <td>30</td>\n",
       "    </tr>\n",
       "    <tr>\n",
       "      <th>4</th>\n",
       "      <td>IndiGo</td>\n",
       "      <td>Banglore</td>\n",
       "      <td>New Delhi</td>\n",
       "      <td>1.0</td>\n",
       "      <td>13302</td>\n",
       "      <td>Economy</td>\n",
       "      <td>0</td>\n",
       "      <td>Noon</td>\n",
       "      <td>Night</td>\n",
       "      <td>1</td>\n",
       "      <td>3</td>\n",
       "      <td>16</td>\n",
       "      <td>50</td>\n",
       "      <td>21</td>\n",
       "      <td>35</td>\n",
       "    </tr>\n",
       "  </tbody>\n",
       "</table>\n",
       "</div>"
      ],
      "text/plain": [
       "       Airline    Source Destination  Total_Stops  Price Booking_Class  \\\n",
       "0       IndiGo  Banglore   New Delhi          0.0   3897       Economy   \n",
       "1    Air India   Kolkata    Banglore          2.0   7662       Economy   \n",
       "2  Jet Airways     Delhi      Cochin          2.0  13882       Economy   \n",
       "3       IndiGo   Kolkata    Banglore          1.0   6218       Economy   \n",
       "4       IndiGo  Banglore   New Delhi          1.0  13302       Economy   \n",
       "\n",
       "   Days_to_Departure Dep_daytime Arr_daytime  Journey_day  Journey_month  \\\n",
       "0                 23       Night       Night           24              3   \n",
       "1                 61       Night        Noon            1              5   \n",
       "2                100     Morning       Night            9              6   \n",
       "3                 72     Evening       Night           12              5   \n",
       "4                  0        Noon       Night            1              3   \n",
       "\n",
       "   Dep_hour  Dep_min  Arrival_hour  Arrival_min  \n",
       "0        22       20             1           10  \n",
       "1         5       50            13           15  \n",
       "2         9       25             4           25  \n",
       "3        18        5            23           30  \n",
       "4        16       50            21           35  "
      ]
     },
     "execution_count": 60,
     "metadata": {},
     "output_type": "execute_result"
    }
   ],
   "source": [
    "train_df.head()"
   ]
  },
  {
   "cell_type": "code",
   "execution_count": 61,
   "id": "0f2b79f3-f727-454b-ad12-590419c17a36",
   "metadata": {},
   "outputs": [],
   "source": [
    "# Concatenate dataframe --> train_data + Airline + Source + Destination + Booking_Class + Dep_daytime + Arr_daytime\n",
    "\n",
    "data_train = pd.concat([train_df, Airline, Source, Destination, Booking_Class, Dep_daytime, Arr_daytime], axis = 1)\n",
    "data_test = pd.concat([test_df, Airline, Source, Destination, Booking_Class, Dep_daytime, Arr_daytime], axis = 1)"
   ]
  },
  {
   "cell_type": "code",
   "execution_count": 62,
   "id": "f7ac13c0-b86b-4905-a168-0b852816a8bc",
   "metadata": {},
   "outputs": [
    {
     "data": {
      "text/html": [
       "<div>\n",
       "<style scoped>\n",
       "    .dataframe tbody tr th:only-of-type {\n",
       "        vertical-align: middle;\n",
       "    }\n",
       "\n",
       "    .dataframe tbody tr th {\n",
       "        vertical-align: top;\n",
       "    }\n",
       "\n",
       "    .dataframe thead th {\n",
       "        text-align: right;\n",
       "    }\n",
       "</style>\n",
       "<table border=\"1\" class=\"dataframe\">\n",
       "  <thead>\n",
       "    <tr style=\"text-align: right;\">\n",
       "      <th></th>\n",
       "      <th>Airline</th>\n",
       "      <th>Source</th>\n",
       "      <th>Destination</th>\n",
       "      <th>Total_Stops</th>\n",
       "      <th>Price</th>\n",
       "      <th>Booking_Class</th>\n",
       "      <th>Days_to_Departure</th>\n",
       "      <th>Dep_daytime</th>\n",
       "      <th>Arr_daytime</th>\n",
       "      <th>Journey_day</th>\n",
       "      <th>...</th>\n",
       "      <th>Destination_Kolkata</th>\n",
       "      <th>Destination_New Delhi</th>\n",
       "      <th>Booking_Class_Economy</th>\n",
       "      <th>Booking_Class_Premium Economy</th>\n",
       "      <th>Dep_daytime_Morning</th>\n",
       "      <th>Dep_daytime_Night</th>\n",
       "      <th>Dep_daytime_Noon</th>\n",
       "      <th>Arr_daytime_Morning</th>\n",
       "      <th>Arr_daytime_Night</th>\n",
       "      <th>Arr_daytime_Noon</th>\n",
       "    </tr>\n",
       "  </thead>\n",
       "  <tbody>\n",
       "    <tr>\n",
       "      <th>0</th>\n",
       "      <td>IndiGo</td>\n",
       "      <td>Banglore</td>\n",
       "      <td>New Delhi</td>\n",
       "      <td>0.0</td>\n",
       "      <td>3897</td>\n",
       "      <td>Economy</td>\n",
       "      <td>23</td>\n",
       "      <td>Night</td>\n",
       "      <td>Night</td>\n",
       "      <td>24</td>\n",
       "      <td>...</td>\n",
       "      <td>0.0</td>\n",
       "      <td>0.0</td>\n",
       "      <td>1.0</td>\n",
       "      <td>0.0</td>\n",
       "      <td>0.0</td>\n",
       "      <td>0.0</td>\n",
       "      <td>0.0</td>\n",
       "      <td>0.0</td>\n",
       "      <td>1.0</td>\n",
       "      <td>0.0</td>\n",
       "    </tr>\n",
       "    <tr>\n",
       "      <th>1</th>\n",
       "      <td>Air India</td>\n",
       "      <td>Kolkata</td>\n",
       "      <td>Banglore</td>\n",
       "      <td>2.0</td>\n",
       "      <td>7662</td>\n",
       "      <td>Economy</td>\n",
       "      <td>61</td>\n",
       "      <td>Night</td>\n",
       "      <td>Noon</td>\n",
       "      <td>1</td>\n",
       "      <td>...</td>\n",
       "      <td>0.0</td>\n",
       "      <td>0.0</td>\n",
       "      <td>1.0</td>\n",
       "      <td>0.0</td>\n",
       "      <td>1.0</td>\n",
       "      <td>0.0</td>\n",
       "      <td>0.0</td>\n",
       "      <td>1.0</td>\n",
       "      <td>0.0</td>\n",
       "      <td>0.0</td>\n",
       "    </tr>\n",
       "    <tr>\n",
       "      <th>2</th>\n",
       "      <td>Jet Airways</td>\n",
       "      <td>Delhi</td>\n",
       "      <td>Cochin</td>\n",
       "      <td>2.0</td>\n",
       "      <td>13882</td>\n",
       "      <td>Economy</td>\n",
       "      <td>100</td>\n",
       "      <td>Morning</td>\n",
       "      <td>Night</td>\n",
       "      <td>9</td>\n",
       "      <td>...</td>\n",
       "      <td>0.0</td>\n",
       "      <td>0.0</td>\n",
       "      <td>1.0</td>\n",
       "      <td>0.0</td>\n",
       "      <td>0.0</td>\n",
       "      <td>0.0</td>\n",
       "      <td>0.0</td>\n",
       "      <td>0.0</td>\n",
       "      <td>0.0</td>\n",
       "      <td>0.0</td>\n",
       "    </tr>\n",
       "    <tr>\n",
       "      <th>3</th>\n",
       "      <td>IndiGo</td>\n",
       "      <td>Kolkata</td>\n",
       "      <td>Banglore</td>\n",
       "      <td>1.0</td>\n",
       "      <td>6218</td>\n",
       "      <td>Economy</td>\n",
       "      <td>72</td>\n",
       "      <td>Evening</td>\n",
       "      <td>Night</td>\n",
       "      <td>12</td>\n",
       "      <td>...</td>\n",
       "      <td>0.0</td>\n",
       "      <td>0.0</td>\n",
       "      <td>1.0</td>\n",
       "      <td>0.0</td>\n",
       "      <td>1.0</td>\n",
       "      <td>0.0</td>\n",
       "      <td>0.0</td>\n",
       "      <td>0.0</td>\n",
       "      <td>1.0</td>\n",
       "      <td>0.0</td>\n",
       "    </tr>\n",
       "    <tr>\n",
       "      <th>4</th>\n",
       "      <td>IndiGo</td>\n",
       "      <td>Banglore</td>\n",
       "      <td>New Delhi</td>\n",
       "      <td>1.0</td>\n",
       "      <td>13302</td>\n",
       "      <td>Economy</td>\n",
       "      <td>0</td>\n",
       "      <td>Noon</td>\n",
       "      <td>Night</td>\n",
       "      <td>1</td>\n",
       "      <td>...</td>\n",
       "      <td>0.0</td>\n",
       "      <td>0.0</td>\n",
       "      <td>1.0</td>\n",
       "      <td>0.0</td>\n",
       "      <td>0.0</td>\n",
       "      <td>1.0</td>\n",
       "      <td>0.0</td>\n",
       "      <td>0.0</td>\n",
       "      <td>1.0</td>\n",
       "      <td>0.0</td>\n",
       "    </tr>\n",
       "  </tbody>\n",
       "</table>\n",
       "<p>5 rows × 42 columns</p>\n",
       "</div>"
      ],
      "text/plain": [
       "       Airline    Source Destination  Total_Stops  Price Booking_Class  \\\n",
       "0       IndiGo  Banglore   New Delhi          0.0   3897       Economy   \n",
       "1    Air India   Kolkata    Banglore          2.0   7662       Economy   \n",
       "2  Jet Airways     Delhi      Cochin          2.0  13882       Economy   \n",
       "3       IndiGo   Kolkata    Banglore          1.0   6218       Economy   \n",
       "4       IndiGo  Banglore   New Delhi          1.0  13302       Economy   \n",
       "\n",
       "   Days_to_Departure Dep_daytime Arr_daytime  Journey_day  ...  \\\n",
       "0                 23       Night       Night           24  ...   \n",
       "1                 61       Night        Noon            1  ...   \n",
       "2                100     Morning       Night            9  ...   \n",
       "3                 72     Evening       Night           12  ...   \n",
       "4                  0        Noon       Night            1  ...   \n",
       "\n",
       "   Destination_Kolkata  Destination_New Delhi  Booking_Class_Economy  \\\n",
       "0                  0.0                    0.0                    1.0   \n",
       "1                  0.0                    0.0                    1.0   \n",
       "2                  0.0                    0.0                    1.0   \n",
       "3                  0.0                    0.0                    1.0   \n",
       "4                  0.0                    0.0                    1.0   \n",
       "\n",
       "   Booking_Class_Premium Economy  Dep_daytime_Morning  Dep_daytime_Night  \\\n",
       "0                            0.0                  0.0                0.0   \n",
       "1                            0.0                  1.0                0.0   \n",
       "2                            0.0                  0.0                0.0   \n",
       "3                            0.0                  1.0                0.0   \n",
       "4                            0.0                  0.0                1.0   \n",
       "\n",
       "   Dep_daytime_Noon  Arr_daytime_Morning  Arr_daytime_Night  Arr_daytime_Noon  \n",
       "0               0.0                  0.0                1.0               0.0  \n",
       "1               0.0                  1.0                0.0               0.0  \n",
       "2               0.0                  0.0                0.0               0.0  \n",
       "3               0.0                  0.0                1.0               0.0  \n",
       "4               0.0                  0.0                1.0               0.0  \n",
       "\n",
       "[5 rows x 42 columns]"
      ]
     },
     "execution_count": 62,
     "metadata": {},
     "output_type": "execute_result"
    }
   ],
   "source": [
    "data_train.head()"
   ]
  },
  {
   "cell_type": "code",
   "execution_count": 63,
   "id": "2ea25ced-3d53-42a4-a8f7-11216337c5a6",
   "metadata": {},
   "outputs": [],
   "source": [
    "\n",
    "data_train.drop([\"Airline\", \"Source\", \"Destination\", \"Booking_Class\", \"Dep_daytime\", \"Arr_daytime\"], axis = 1, inplace = True)\n",
    "\n",
    "data_test.drop([\"Airline\", \"Source\", \"Destination\", \"Booking_Class\", \"Dep_daytime\", \"Arr_daytime\"], axis = 1, inplace = True)"
   ]
  },
  {
   "cell_type": "code",
   "execution_count": 64,
   "id": "4bbf7077-67ac-45d8-8d4f-948fa715adaa",
   "metadata": {},
   "outputs": [
    {
     "data": {
      "text/html": [
       "<div>\n",
       "<style scoped>\n",
       "    .dataframe tbody tr th:only-of-type {\n",
       "        vertical-align: middle;\n",
       "    }\n",
       "\n",
       "    .dataframe tbody tr th {\n",
       "        vertical-align: top;\n",
       "    }\n",
       "\n",
       "    .dataframe thead th {\n",
       "        text-align: right;\n",
       "    }\n",
       "</style>\n",
       "<table border=\"1\" class=\"dataframe\">\n",
       "  <thead>\n",
       "    <tr style=\"text-align: right;\">\n",
       "      <th></th>\n",
       "      <th>Total_Stops</th>\n",
       "      <th>Price</th>\n",
       "      <th>Days_to_Departure</th>\n",
       "      <th>Journey_day</th>\n",
       "      <th>Journey_month</th>\n",
       "      <th>Dep_hour</th>\n",
       "      <th>Dep_min</th>\n",
       "      <th>Arrival_hour</th>\n",
       "      <th>Arrival_min</th>\n",
       "      <th>Airline_Air India</th>\n",
       "      <th>...</th>\n",
       "      <th>Destination_Kolkata</th>\n",
       "      <th>Destination_New Delhi</th>\n",
       "      <th>Booking_Class_Economy</th>\n",
       "      <th>Booking_Class_Premium Economy</th>\n",
       "      <th>Dep_daytime_Morning</th>\n",
       "      <th>Dep_daytime_Night</th>\n",
       "      <th>Dep_daytime_Noon</th>\n",
       "      <th>Arr_daytime_Morning</th>\n",
       "      <th>Arr_daytime_Night</th>\n",
       "      <th>Arr_daytime_Noon</th>\n",
       "    </tr>\n",
       "  </thead>\n",
       "  <tbody>\n",
       "    <tr>\n",
       "      <th>0</th>\n",
       "      <td>0.0</td>\n",
       "      <td>3897</td>\n",
       "      <td>23</td>\n",
       "      <td>24</td>\n",
       "      <td>3</td>\n",
       "      <td>22</td>\n",
       "      <td>20</td>\n",
       "      <td>1</td>\n",
       "      <td>10</td>\n",
       "      <td>0.0</td>\n",
       "      <td>...</td>\n",
       "      <td>0.0</td>\n",
       "      <td>0.0</td>\n",
       "      <td>1.0</td>\n",
       "      <td>0.0</td>\n",
       "      <td>0.0</td>\n",
       "      <td>0.0</td>\n",
       "      <td>0.0</td>\n",
       "      <td>0.0</td>\n",
       "      <td>1.0</td>\n",
       "      <td>0.0</td>\n",
       "    </tr>\n",
       "    <tr>\n",
       "      <th>1</th>\n",
       "      <td>2.0</td>\n",
       "      <td>7662</td>\n",
       "      <td>61</td>\n",
       "      <td>1</td>\n",
       "      <td>5</td>\n",
       "      <td>5</td>\n",
       "      <td>50</td>\n",
       "      <td>13</td>\n",
       "      <td>15</td>\n",
       "      <td>0.0</td>\n",
       "      <td>...</td>\n",
       "      <td>0.0</td>\n",
       "      <td>0.0</td>\n",
       "      <td>1.0</td>\n",
       "      <td>0.0</td>\n",
       "      <td>1.0</td>\n",
       "      <td>0.0</td>\n",
       "      <td>0.0</td>\n",
       "      <td>1.0</td>\n",
       "      <td>0.0</td>\n",
       "      <td>0.0</td>\n",
       "    </tr>\n",
       "    <tr>\n",
       "      <th>2</th>\n",
       "      <td>2.0</td>\n",
       "      <td>13882</td>\n",
       "      <td>100</td>\n",
       "      <td>9</td>\n",
       "      <td>6</td>\n",
       "      <td>9</td>\n",
       "      <td>25</td>\n",
       "      <td>4</td>\n",
       "      <td>25</td>\n",
       "      <td>0.0</td>\n",
       "      <td>...</td>\n",
       "      <td>0.0</td>\n",
       "      <td>0.0</td>\n",
       "      <td>1.0</td>\n",
       "      <td>0.0</td>\n",
       "      <td>0.0</td>\n",
       "      <td>0.0</td>\n",
       "      <td>0.0</td>\n",
       "      <td>0.0</td>\n",
       "      <td>0.0</td>\n",
       "      <td>0.0</td>\n",
       "    </tr>\n",
       "    <tr>\n",
       "      <th>3</th>\n",
       "      <td>1.0</td>\n",
       "      <td>6218</td>\n",
       "      <td>72</td>\n",
       "      <td>12</td>\n",
       "      <td>5</td>\n",
       "      <td>18</td>\n",
       "      <td>5</td>\n",
       "      <td>23</td>\n",
       "      <td>30</td>\n",
       "      <td>0.0</td>\n",
       "      <td>...</td>\n",
       "      <td>0.0</td>\n",
       "      <td>0.0</td>\n",
       "      <td>1.0</td>\n",
       "      <td>0.0</td>\n",
       "      <td>1.0</td>\n",
       "      <td>0.0</td>\n",
       "      <td>0.0</td>\n",
       "      <td>0.0</td>\n",
       "      <td>1.0</td>\n",
       "      <td>0.0</td>\n",
       "    </tr>\n",
       "    <tr>\n",
       "      <th>4</th>\n",
       "      <td>1.0</td>\n",
       "      <td>13302</td>\n",
       "      <td>0</td>\n",
       "      <td>1</td>\n",
       "      <td>3</td>\n",
       "      <td>16</td>\n",
       "      <td>50</td>\n",
       "      <td>21</td>\n",
       "      <td>35</td>\n",
       "      <td>0.0</td>\n",
       "      <td>...</td>\n",
       "      <td>0.0</td>\n",
       "      <td>0.0</td>\n",
       "      <td>1.0</td>\n",
       "      <td>0.0</td>\n",
       "      <td>0.0</td>\n",
       "      <td>1.0</td>\n",
       "      <td>0.0</td>\n",
       "      <td>0.0</td>\n",
       "      <td>1.0</td>\n",
       "      <td>0.0</td>\n",
       "    </tr>\n",
       "  </tbody>\n",
       "</table>\n",
       "<p>5 rows × 36 columns</p>\n",
       "</div>"
      ],
      "text/plain": [
       "   Total_Stops  Price  Days_to_Departure  Journey_day  Journey_month  \\\n",
       "0          0.0   3897                 23           24              3   \n",
       "1          2.0   7662                 61            1              5   \n",
       "2          2.0  13882                100            9              6   \n",
       "3          1.0   6218                 72           12              5   \n",
       "4          1.0  13302                  0            1              3   \n",
       "\n",
       "   Dep_hour  Dep_min  Arrival_hour  Arrival_min  Airline_Air India  ...  \\\n",
       "0        22       20             1           10                0.0  ...   \n",
       "1         5       50            13           15                0.0  ...   \n",
       "2         9       25             4           25                0.0  ...   \n",
       "3        18        5            23           30                0.0  ...   \n",
       "4        16       50            21           35                0.0  ...   \n",
       "\n",
       "   Destination_Kolkata  Destination_New Delhi  Booking_Class_Economy  \\\n",
       "0                  0.0                    0.0                    1.0   \n",
       "1                  0.0                    0.0                    1.0   \n",
       "2                  0.0                    0.0                    1.0   \n",
       "3                  0.0                    0.0                    1.0   \n",
       "4                  0.0                    0.0                    1.0   \n",
       "\n",
       "   Booking_Class_Premium Economy  Dep_daytime_Morning  Dep_daytime_Night  \\\n",
       "0                            0.0                  0.0                0.0   \n",
       "1                            0.0                  1.0                0.0   \n",
       "2                            0.0                  0.0                0.0   \n",
       "3                            0.0                  1.0                0.0   \n",
       "4                            0.0                  0.0                1.0   \n",
       "\n",
       "   Dep_daytime_Noon  Arr_daytime_Morning  Arr_daytime_Night  Arr_daytime_Noon  \n",
       "0               0.0                  0.0                1.0               0.0  \n",
       "1               0.0                  1.0                0.0               0.0  \n",
       "2               0.0                  0.0                0.0               0.0  \n",
       "3               0.0                  0.0                1.0               0.0  \n",
       "4               0.0                  0.0                1.0               0.0  \n",
       "\n",
       "[5 rows x 36 columns]"
      ]
     },
     "execution_count": 64,
     "metadata": {},
     "output_type": "execute_result"
    }
   ],
   "source": [
    "data_train.head()"
   ]
  },
  {
   "cell_type": "code",
   "execution_count": 65,
   "id": "d8682a02-07a7-467e-938f-c6b1722cbaf1",
   "metadata": {},
   "outputs": [
    {
     "data": {
      "text/plain": [
       "(10683, 36)"
      ]
     },
     "execution_count": 65,
     "metadata": {},
     "output_type": "execute_result"
    }
   ],
   "source": [
    "data_train.shape"
   ]
  },
  {
   "cell_type": "markdown",
   "id": "b0793fc0-0edd-4736-9144-5ac7c624d57d",
   "metadata": {},
   "source": [
    "## Feature Selection"
   ]
  },
  {
   "cell_type": "code",
   "execution_count": 67,
   "id": "2221899b-0013-4bb8-b603-9d92dfa8aa34",
   "metadata": {},
   "outputs": [
    {
     "data": {
      "text/plain": [
       "(10683, 36)"
      ]
     },
     "execution_count": 67,
     "metadata": {},
     "output_type": "execute_result"
    }
   ],
   "source": [
    "data_train.shape"
   ]
  },
  {
   "cell_type": "code",
   "execution_count": 68,
   "id": "c62bede8-f403-494b-ae8c-b932fbb278dc",
   "metadata": {},
   "outputs": [
    {
     "data": {
      "text/plain": [
       "Index(['Total_Stops', 'Price', 'Days_to_Departure', 'Journey_day',\n",
       "       'Journey_month', 'Dep_hour', 'Dep_min', 'Arrival_hour', 'Arrival_min',\n",
       "       'Airline_Air India', 'Airline_GoAir', 'Airline_IndiGo',\n",
       "       'Airline_Jet Airways', 'Airline_Jet Airways Business',\n",
       "       'Airline_Multiple carriers',\n",
       "       'Airline_Multiple carriers Premium economy', 'Airline_SpiceJet',\n",
       "       'Airline_Vistara', 'Airline_Vistara Premium economy', 'Source_Chennai',\n",
       "       'Source_Delhi', 'Source_Kolkata', 'Source_Mumbai', 'Destination_Cochin',\n",
       "       'Destination_Delhi', 'Destination_Hyderabad', 'Destination_Kolkata',\n",
       "       'Destination_New Delhi', 'Booking_Class_Economy',\n",
       "       'Booking_Class_Premium Economy', 'Dep_daytime_Morning',\n",
       "       'Dep_daytime_Night', 'Dep_daytime_Noon', 'Arr_daytime_Morning',\n",
       "       'Arr_daytime_Night', 'Arr_daytime_Noon'],\n",
       "      dtype='object')"
      ]
     },
     "execution_count": 68,
     "metadata": {},
     "output_type": "execute_result"
    }
   ],
   "source": [
    "data_train.columns"
   ]
  },
  {
   "cell_type": "code",
   "execution_count": 152,
   "id": "742eda4d-936a-427b-b2bd-3b8cde89aded",
   "metadata": {},
   "outputs": [
    {
     "data": {
      "text/html": [
       "<div>\n",
       "<style scoped>\n",
       "    .dataframe tbody tr th:only-of-type {\n",
       "        vertical-align: middle;\n",
       "    }\n",
       "\n",
       "    .dataframe tbody tr th {\n",
       "        vertical-align: top;\n",
       "    }\n",
       "\n",
       "    .dataframe thead th {\n",
       "        text-align: right;\n",
       "    }\n",
       "</style>\n",
       "<table border=\"1\" class=\"dataframe\">\n",
       "  <thead>\n",
       "    <tr style=\"text-align: right;\">\n",
       "      <th></th>\n",
       "      <th>Total_Stops</th>\n",
       "      <th>Journey_day</th>\n",
       "      <th>Journey_month</th>\n",
       "      <th>Dep_hour</th>\n",
       "      <th>Dep_min</th>\n",
       "      <th>Arrival_hour</th>\n",
       "      <th>Arrival_min</th>\n",
       "      <th>Airline_Air India</th>\n",
       "      <th>Airline_GoAir</th>\n",
       "      <th>Airline_IndiGo</th>\n",
       "      <th>...</th>\n",
       "      <th>Destination_Kolkata</th>\n",
       "      <th>Destination_New Delhi</th>\n",
       "      <th>Booking_Class_Economy</th>\n",
       "      <th>Booking_Class_Premium Economy</th>\n",
       "      <th>Dep_daytime_Morning</th>\n",
       "      <th>Dep_daytime_Night</th>\n",
       "      <th>Dep_daytime_Noon</th>\n",
       "      <th>Arr_daytime_Morning</th>\n",
       "      <th>Arr_daytime_Night</th>\n",
       "      <th>Arr_daytime_Noon</th>\n",
       "    </tr>\n",
       "  </thead>\n",
       "  <tbody>\n",
       "    <tr>\n",
       "      <th>0</th>\n",
       "      <td>0.0</td>\n",
       "      <td>24</td>\n",
       "      <td>3</td>\n",
       "      <td>22</td>\n",
       "      <td>20</td>\n",
       "      <td>1</td>\n",
       "      <td>10</td>\n",
       "      <td>0.0</td>\n",
       "      <td>0.0</td>\n",
       "      <td>0.0</td>\n",
       "      <td>...</td>\n",
       "      <td>0.0</td>\n",
       "      <td>0.0</td>\n",
       "      <td>1.0</td>\n",
       "      <td>0.0</td>\n",
       "      <td>0.0</td>\n",
       "      <td>0.0</td>\n",
       "      <td>0.0</td>\n",
       "      <td>0.0</td>\n",
       "      <td>1.0</td>\n",
       "      <td>0.0</td>\n",
       "    </tr>\n",
       "    <tr>\n",
       "      <th>1</th>\n",
       "      <td>2.0</td>\n",
       "      <td>1</td>\n",
       "      <td>5</td>\n",
       "      <td>5</td>\n",
       "      <td>50</td>\n",
       "      <td>13</td>\n",
       "      <td>15</td>\n",
       "      <td>0.0</td>\n",
       "      <td>0.0</td>\n",
       "      <td>1.0</td>\n",
       "      <td>...</td>\n",
       "      <td>0.0</td>\n",
       "      <td>0.0</td>\n",
       "      <td>1.0</td>\n",
       "      <td>0.0</td>\n",
       "      <td>1.0</td>\n",
       "      <td>0.0</td>\n",
       "      <td>0.0</td>\n",
       "      <td>1.0</td>\n",
       "      <td>0.0</td>\n",
       "      <td>0.0</td>\n",
       "    </tr>\n",
       "    <tr>\n",
       "      <th>2</th>\n",
       "      <td>2.0</td>\n",
       "      <td>9</td>\n",
       "      <td>6</td>\n",
       "      <td>9</td>\n",
       "      <td>25</td>\n",
       "      <td>4</td>\n",
       "      <td>25</td>\n",
       "      <td>0.0</td>\n",
       "      <td>0.0</td>\n",
       "      <td>0.0</td>\n",
       "      <td>...</td>\n",
       "      <td>0.0</td>\n",
       "      <td>0.0</td>\n",
       "      <td>1.0</td>\n",
       "      <td>0.0</td>\n",
       "      <td>0.0</td>\n",
       "      <td>0.0</td>\n",
       "      <td>0.0</td>\n",
       "      <td>0.0</td>\n",
       "      <td>0.0</td>\n",
       "      <td>0.0</td>\n",
       "    </tr>\n",
       "    <tr>\n",
       "      <th>3</th>\n",
       "      <td>1.0</td>\n",
       "      <td>12</td>\n",
       "      <td>5</td>\n",
       "      <td>18</td>\n",
       "      <td>5</td>\n",
       "      <td>23</td>\n",
       "      <td>30</td>\n",
       "      <td>0.0</td>\n",
       "      <td>0.0</td>\n",
       "      <td>0.0</td>\n",
       "      <td>...</td>\n",
       "      <td>0.0</td>\n",
       "      <td>0.0</td>\n",
       "      <td>1.0</td>\n",
       "      <td>0.0</td>\n",
       "      <td>1.0</td>\n",
       "      <td>0.0</td>\n",
       "      <td>0.0</td>\n",
       "      <td>0.0</td>\n",
       "      <td>1.0</td>\n",
       "      <td>0.0</td>\n",
       "    </tr>\n",
       "    <tr>\n",
       "      <th>4</th>\n",
       "      <td>1.0</td>\n",
       "      <td>1</td>\n",
       "      <td>3</td>\n",
       "      <td>16</td>\n",
       "      <td>50</td>\n",
       "      <td>21</td>\n",
       "      <td>35</td>\n",
       "      <td>0.0</td>\n",
       "      <td>0.0</td>\n",
       "      <td>0.0</td>\n",
       "      <td>...</td>\n",
       "      <td>0.0</td>\n",
       "      <td>0.0</td>\n",
       "      <td>1.0</td>\n",
       "      <td>0.0</td>\n",
       "      <td>0.0</td>\n",
       "      <td>1.0</td>\n",
       "      <td>0.0</td>\n",
       "      <td>0.0</td>\n",
       "      <td>1.0</td>\n",
       "      <td>0.0</td>\n",
       "    </tr>\n",
       "  </tbody>\n",
       "</table>\n",
       "<p>5 rows × 34 columns</p>\n",
       "</div>"
      ],
      "text/plain": [
       "   Total_Stops  Journey_day  Journey_month  Dep_hour  Dep_min  Arrival_hour  \\\n",
       "0          0.0           24              3        22       20             1   \n",
       "1          2.0            1              5         5       50            13   \n",
       "2          2.0            9              6         9       25             4   \n",
       "3          1.0           12              5        18        5            23   \n",
       "4          1.0            1              3        16       50            21   \n",
       "\n",
       "   Arrival_min  Airline_Air India  Airline_GoAir  Airline_IndiGo  ...  \\\n",
       "0           10                0.0            0.0             0.0  ...   \n",
       "1           15                0.0            0.0             1.0  ...   \n",
       "2           25                0.0            0.0             0.0  ...   \n",
       "3           30                0.0            0.0             0.0  ...   \n",
       "4           35                0.0            0.0             0.0  ...   \n",
       "\n",
       "   Destination_Kolkata  Destination_New Delhi  Booking_Class_Economy  \\\n",
       "0                  0.0                    0.0                    1.0   \n",
       "1                  0.0                    0.0                    1.0   \n",
       "2                  0.0                    0.0                    1.0   \n",
       "3                  0.0                    0.0                    1.0   \n",
       "4                  0.0                    0.0                    1.0   \n",
       "\n",
       "   Booking_Class_Premium Economy  Dep_daytime_Morning  Dep_daytime_Night  \\\n",
       "0                            0.0                  0.0                0.0   \n",
       "1                            0.0                  1.0                0.0   \n",
       "2                            0.0                  0.0                0.0   \n",
       "3                            0.0                  1.0                0.0   \n",
       "4                            0.0                  0.0                1.0   \n",
       "\n",
       "   Dep_daytime_Noon  Arr_daytime_Morning  Arr_daytime_Night  Arr_daytime_Noon  \n",
       "0               0.0                  0.0                1.0               0.0  \n",
       "1               0.0                  1.0                0.0               0.0  \n",
       "2               0.0                  0.0                0.0               0.0  \n",
       "3               0.0                  0.0                1.0               0.0  \n",
       "4               0.0                  0.0                1.0               0.0  \n",
       "\n",
       "[5 rows x 34 columns]"
      ]
     },
     "execution_count": 152,
     "metadata": {},
     "output_type": "execute_result"
    }
   ],
   "source": [
    "# Selecting specific columns from the 'data_train' dataframe to create the feature matrix X\n",
    "X = data_train.loc[:, ['Total_Stops', 'Journey_day','Journey_month',\n",
    "        'Dep_hour', 'Dep_min', 'Arrival_hour', 'Arrival_min',\n",
    "       'Airline_Air India', 'Airline_GoAir', 'Airline_IndiGo',\n",
    "       'Airline_Jet Airways', 'Airline_Jet Airways Business',\n",
    "       'Airline_Multiple carriers',\n",
    "       'Airline_Multiple carriers Premium economy', 'Airline_SpiceJet',\n",
    "       'Airline_Vistara', 'Airline_Vistara Premium economy', 'Source_Chennai',\n",
    "       'Source_Delhi', 'Source_Kolkata', 'Source_Mumbai', 'Destination_Cochin',\n",
    "       'Destination_Delhi', 'Destination_Hyderabad', 'Destination_Kolkata',\n",
    "       'Destination_New Delhi', 'Booking_Class_Economy',\n",
    "       'Booking_Class_Premium Economy', 'Dep_daytime_Morning',\n",
    "       'Dep_daytime_Night', 'Dep_daytime_Noon', 'Arr_daytime_Morning',\n",
    "       'Arr_daytime_Night', 'Arr_daytime_Noon']]\n",
    "X.head()"
   ]
  },
  {
   "cell_type": "code",
   "execution_count": 154,
   "id": "639051bc-27f2-49d8-970e-2950d289de35",
   "metadata": {},
   "outputs": [
    {
     "data": {
      "text/plain": [
       "0     3897\n",
       "1     7662\n",
       "2    13882\n",
       "3     6218\n",
       "4    13302\n",
       "Name: Price, dtype: int64"
      ]
     },
     "execution_count": 154,
     "metadata": {},
     "output_type": "execute_result"
    }
   ],
   "source": [
    "y = data_train.iloc[:, 1]\n",
    "y.head()"
   ]
  },
  {
   "cell_type": "code",
   "execution_count": 156,
   "id": "77d34d2d-5916-4eeb-b03b-4098a000b58f",
   "metadata": {},
   "outputs": [
    {
     "data": {
      "image/png": "[encoded data removed]",
      "text/plain": [
       "<Figure size 1000x1000 with 2 Axes>"
      ]
     },
     "metadata": {},
     "output_type": "display_data"
    }
   ],
   "source": [
    "# Finds correlation between Independent and dependent attributes\n",
    "numeric_df = train_df.select_dtypes(include=[float, int])\n",
    "\n",
    "plt.figure(figsize = (10,10))\n",
    "sns.heatmap(numeric_df.corr(), annot = True, cmap = \"RdYlGn\")\n",
    "\n",
    "plt.show()"
   ]
  },
  {
   "cell_type": "markdown",
   "id": "244926a3-aee7-40fa-8945-6e74dff0efa1",
   "metadata": {},
   "source": [
    "## Model Fitting"
   ]
  },
  {
   "cell_type": "code",
   "execution_count": 163,
   "id": "b1e8451d-2e4c-4647-ad7c-ee7345dd1f2d",
   "metadata": {},
   "outputs": [],
   "source": [
    "from sklearn.model_selection import train_test_split\n",
    "\n",
    "# Split the dataset into training and testing sets, with 80% of the data for training and 20% for testing\n",
    "# Set the random_state parameter to 42 for reproducibility\n",
    "X_train, X_test, y_train, y_test = train_test_split(X, y, test_size = 0.2, random_state =42)"
   ]
  },
  {
   "cell_type": "code",
   "execution_count": 177,
   "id": "3f5880c5-8723-4f82-a459-a6e91307f254",
   "metadata": {},
   "outputs": [
    {
     "data": {
      "text/html": [
       "<style>#sk-container-id-2 {color: black;}#sk-container-id-2 pre{padding: 0;}#sk-container-id-2 div.sk-toggleable {background-color: white;}#sk-container-id-2 label.sk-toggleable__label {cursor: pointer;display: block;width: 100%;margin-bottom: 0;padding: 0.3em;box-sizing: border-box;text-align: center;}#sk-container-id-2 label.sk-toggleable__label-arrow:before {content: \"▸\";float: left;margin-right: 0.25em;color: #696969;}#sk-container-id-2 label.sk-toggleable__label-arrow:hover:before {color: black;}#sk-container-id-2 div.sk-estimator:hover label.sk-toggleable__label-arrow:before {color: black;}#sk-container-id-2 div.sk-toggleable__content {max-height: 0;max-width: 0;overflow: hidden;text-align: left;background-color: #f0f8ff;}#sk-container-id-2 div.sk-toggleable__content pre {margin: 0.2em;color: black;border-radius: 0.25em;background-color: #f0f8ff;}#sk-container-id-2 input.sk-toggleable__control:checked~div.sk-toggleable__content {max-height: 200px;max-width: 100%;overflow: auto;}#sk-container-id-2 input.sk-toggleable__control:checked~label.sk-toggleable__label-arrow:before {content: \"▾\";}#sk-container-id-2 div.sk-estimator input.sk-toggleable__control:checked~label.sk-toggleable__label {background-color: #d4ebff;}#sk-container-id-2 div.sk-label input.sk-toggleable__control:checked~label.sk-toggleable__label {background-color: #d4ebff;}#sk-container-id-2 input.sk-hidden--visually {border: 0;clip: rect(1px 1px 1px 1px);clip: rect(1px, 1px, 1px, 1px);height: 1px;margin: -1px;overflow: hidden;padding: 0;position: absolute;width: 1px;}#sk-container-id-2 div.sk-estimator {font-family: monospace;background-color: #f0f8ff;border: 1px dotted black;border-radius: 0.25em;box-sizing: border-box;margin-bottom: 0.5em;}#sk-container-id-2 div.sk-estimator:hover {background-color: #d4ebff;}#sk-container-id-2 div.sk-parallel-item::after {content: \"\";width: 100%;border-bottom: 1px solid gray;flex-grow: 1;}#sk-container-id-2 div.sk-label:hover label.sk-toggleable__label {background-color: #d4ebff;}#sk-container-id-2 div.sk-serial::before {content: \"\";position: absolute;border-left: 1px solid gray;box-sizing: border-box;top: 0;bottom: 0;left: 50%;z-index: 0;}#sk-container-id-2 div.sk-serial {display: flex;flex-direction: column;align-items: center;background-color: white;padding-right: 0.2em;padding-left: 0.2em;position: relative;}#sk-container-id-2 div.sk-item {position: relative;z-index: 1;}#sk-container-id-2 div.sk-parallel {display: flex;align-items: stretch;justify-content: center;background-color: white;position: relative;}#sk-container-id-2 div.sk-item::before, #sk-container-id-2 div.sk-parallel-item::before {content: \"\";position: absolute;border-left: 1px solid gray;box-sizing: border-box;top: 0;bottom: 0;left: 50%;z-index: -1;}#sk-container-id-2 div.sk-parallel-item {display: flex;flex-direction: column;z-index: 1;position: relative;background-color: white;}#sk-container-id-2 div.sk-parallel-item:first-child::after {align-self: flex-end;width: 50%;}#sk-container-id-2 div.sk-parallel-item:last-child::after {align-self: flex-start;width: 50%;}#sk-container-id-2 div.sk-parallel-item:only-child::after {width: 0;}#sk-container-id-2 div.sk-dashed-wrapped {border: 1px dashed gray;margin: 0 0.4em 0.5em 0.4em;box-sizing: border-box;padding-bottom: 0.4em;background-color: white;}#sk-container-id-2 div.sk-label label {font-family: monospace;font-weight: bold;display: inline-block;line-height: 1.2em;}#sk-container-id-2 div.sk-label-container {text-align: center;}#sk-container-id-2 div.sk-container {/* jupyter's `normalize.less` sets `[hidden] { display: none; }` but bootstrap.min.css set `[hidden] { display: none !important; }` so we also need the `!important` here to be able to override the default hidden behavior on the sphinx rendered scikit-learn.org. See: https://github.com/scikit-learn/scikit-learn/issues/21755 */display: inline-block !important;position: relative;}#sk-container-id-2 div.sk-text-repr-fallback {display: none;}</style><div id=\"sk-container-id-2\" class=\"sk-top-container\"><div class=\"sk-text-repr-fallback\"><pre>RandomForestRegressor()</pre><b>In a Jupyter environment, please rerun this cell to show the HTML representation or trust the notebook. <br />On GitHub, the HTML representation is unable to render, please try loading this page with nbviewer.org.</b></div><div class=\"sk-container\" hidden><div class=\"sk-item\"><div class=\"sk-estimator sk-toggleable\"><input class=\"sk-toggleable__control sk-hidden--visually\" id=\"sk-estimator-id-2\" type=\"checkbox\" checked><label for=\"sk-estimator-id-2\" class=\"sk-toggleable__label sk-toggleable__label-arrow\">RandomForestRegressor</label><div class=\"sk-toggleable__content\"><pre>RandomForestRegressor()</pre></div></div></div></div></div>"
      ],
      "text/plain": [
       "RandomForestRegressor()"
      ]
     },
     "execution_count": 177,
     "metadata": {},
     "output_type": "execute_result"
    }
   ],
   "source": [
    "import pandas as pd\n",
    "from sklearn.ensemble import RandomForestRegressor\n",
    "from sklearn.impute import SimpleImputer\n",
    "\n",
    "# Impute missing values with the mean (you can also use 'median' or 'most_frequent')\n",
    "imputer = SimpleImputer(strategy='mean')\n",
    "X_train_imputed = imputer.fit_transform(X_train)\n",
    "X_test_imputed = imputer.fit_transform(X_test)\n",
    "\n",
    "reg_rf = RandomForestRegressor() # Create a RandomForestRegressor model\n",
    "reg_rf.fit(X_train_imputed, y_train) # Train the model using the imputed training data and the corresponding target values"
   ]
  },
  {
   "cell_type": "code",
   "execution_count": 179,
   "id": "018d962f-d138-49d9-b004-1b49869c22b9",
   "metadata": {},
   "outputs": [],
   "source": [
    "# Predict the target variable using the trained random forest model\n",
    "y_pred = reg_rf.predict(X_test_imputed)"
   ]
  },
  {
   "cell_type": "code",
   "execution_count": 181,
   "id": "feccf8a4-3816-4151-b4c0-c599f28c90ca",
   "metadata": {},
   "outputs": [
    {
     "data": {
      "text/plain": [
       "0.9502647183551467"
      ]
     },
     "execution_count": 181,
     "metadata": {},
     "output_type": "execute_result"
    }
   ],
   "source": [
    "# Calculate the R^2 score of the random forest model using the training data\n",
    "reg_rf.score(X_train_imputed, y_train)"
   ]
  },
  {
   "cell_type": "code",
   "execution_count": 183,
   "id": "f60919d7-52bc-41ee-8ce6-fd5badbd8958",
   "metadata": {},
   "outputs": [
    {
     "data": {
      "text/plain": [
       "0.7561320222684239"
      ]
     },
     "execution_count": 183,
     "metadata": {},
     "output_type": "execute_result"
    }
   ],
   "source": [
    "# Calculate the R^2 score of the trained random forest model using the imputed test data and the actual test labels\n",
    "reg_rf.score(X_test_imputed, y_test)"
   ]
  },
  {
   "cell_type": "code",
   "execution_count": 185,
   "id": "1ded9578-8dc2-4266-b443-f5962b5ca0e9",
   "metadata": {},
   "outputs": [
    {
     "data": {
      "image/png": "[encoded data removed]",
      "text/plain": [
       "<Figure size 640x480 with 1 Axes>"
      ]
     },
     "metadata": {},
     "output_type": "display_data"
    }
   ],
   "source": [
    "# Display a distribution plot of the difference between the actual y values (y_test) and the predicted y values (y_pred)\n",
    "sns.distplot(y_test-y_pred)\n",
    "plt.show()"
   ]
  },
  {
   "cell_type": "code",
   "execution_count": 187,
   "id": "ad8f5342-d7cb-457a-a067-003d5d9b50e1",
   "metadata": {},
   "outputs": [
    {
     "data": {
      "image/png": "[encoded data removed]",
      "text/plain": [
       "<Figure size 640x480 with 1 Axes>"
      ]
     },
     "metadata": {},
     "output_type": "display_data"
    }
   ],
   "source": [
    "plt.scatter(y_test, y_pred, alpha = 0.5)\n",
    "plt.xlabel(\"y_test\")\n",
    "plt.ylabel(\"y_pred\")\n",
    "plt.show()"
   ]
  },
  {
   "cell_type": "code",
   "execution_count": 189,
   "id": "0d9b3293-ab59-43f1-b0c3-aeea40c5dcdd",
   "metadata": {},
   "outputs": [],
   "source": [
    "from sklearn import metrics"
   ]
  },
  {
   "cell_type": "code",
   "execution_count": 191,
   "id": "8d6393d4-31bb-4742-ac9c-3ae6fe874364",
   "metadata": {},
   "outputs": [
    {
     "name": "stdout",
     "output_type": "stream",
     "text": [
      "MAE: 1392.2991458427446\n",
      "MSE: 5161213.602778418\n",
      "RMSE: 2271.830452031669\n"
     ]
    }
   ],
   "source": [
    "print('MAE:', metrics.mean_absolute_error(y_test, y_pred))\n",
    "print('MSE:', metrics.mean_squared_error(y_test, y_pred))\n",
    "print('RMSE:', np.sqrt(metrics.mean_squared_error(y_test, y_pred)))"
   ]
  },
  {
   "cell_type": "markdown",
   "id": "f09ddd62-bb5a-4e79-9b58-c1f5394c12f0",
   "metadata": {},
   "source": [
    "Observation:\n",
    "\n",
    "- MAE (Mean Absolute Error): 1392.30\n",
    "\n",
    "This metric indicates that on average, the model's predictions are off by 1392.30 units from the actual values.\n",
    "\n",
    "- MSE (Mean Squared Error): 5,161,213.60\n",
    "\n",
    "MSE squares the errors before averaging, which means larger errors are penalized more heavily.\n",
    "The higher value of MSE compared to MAE suggests that there are some predictions with significant errors that are having a large impact on the MSE value.\n",
    "\n",
    "- RMSE (Root Mean Squared Error): 2271.83\n",
    "\n",
    "An RMSE of 2271.83 indicates that the typical prediction error is around 2271.83 units."
   ]
  },
  {
   "cell_type": "code",
   "execution_count": 193,
   "id": "1aee4be1-a5e2-4cb4-af4e-9997a668f349",
   "metadata": {},
   "outputs": [
    {
     "data": {
      "text/plain": [
       "0.026887077025966846"
      ]
     },
     "execution_count": 193,
     "metadata": {},
     "output_type": "execute_result"
    }
   ],
   "source": [
    "# RMSE/(max(DV)-min(DV))\n",
    "\n",
    "2090.5509/(max(y)-min(y))"
   ]
  },
  {
   "cell_type": "code",
   "execution_count": 195,
   "id": "ae0a166d-90bd-4b05-9d9c-01ba89718883",
   "metadata": {},
   "outputs": [
    {
     "data": {
      "text/plain": [
       "0.7561320222684239"
      ]
     },
     "execution_count": 195,
     "metadata": {},
     "output_type": "execute_result"
    }
   ],
   "source": [
    "# Calculate the R-squared score to evaluate the performance of the model\n",
    "metrics.r2_score(y_test, y_pred)"
   ]
  },
  {
   "cell_type": "markdown",
   "id": "e95fbfc5-e78d-4a04-9728-99f216e0ebd6",
   "metadata": {},
   "source": [
    "## Hyperparameter Tuning"
   ]
  },
  {
   "cell_type": "code",
   "execution_count": 198,
   "id": "584cdaac-5ea1-4916-89c7-610e72b29ce0",
   "metadata": {},
   "outputs": [],
   "source": [
    "from sklearn.model_selection import RandomizedSearchCV"
   ]
  },
  {
   "cell_type": "code",
   "execution_count": 200,
   "id": "cb922d71-fe83-4501-afb4-496b2f399de1",
   "metadata": {},
   "outputs": [],
   "source": [
    "#Randomized Search CV\n",
    "\n",
    "# Number of trees in random forest\n",
    "n_estimators = [int(x) for x in np.linspace(start = 100, stop = 1200, num = 12)]\n",
    "# Number of features to consider at every split\n",
    "max_features = ['auto', 'sqrt']\n",
    "# Maximum number of levels in tree\n",
    "max_depth = [int(x) for x in np.linspace(5, 30, num = 6)]\n",
    "# Minimum number of samples required to split a node\n",
    "min_samples_split = [2, 5, 10, 15, 100]\n",
    "# Minimum number of samples required at each leaf node\n",
    "min_samples_leaf = [1, 2, 5, 10]"
   ]
  },
  {
   "cell_type": "code",
   "execution_count": 202,
   "id": "60982dfe-f9b5-48cc-9096-26a3cd5bed6b",
   "metadata": {},
   "outputs": [],
   "source": [
    "# Create the random grid\n",
    "\n",
    "random_grid = {'n_estimators': n_estimators,\n",
    "               'max_features': max_features,\n",
    "               'max_depth': max_depth,\n",
    "               'min_samples_split': min_samples_split,\n",
    "               'min_samples_leaf': min_samples_leaf}"
   ]
  },
  {
   "cell_type": "code",
   "execution_count": 206,
   "id": "66bb1c3e-0534-46b7-ab90-57c8e61f8549",
   "metadata": {},
   "outputs": [
    {
     "name": "stdout",
     "output_type": "stream",
     "text": [
      "Fitting 5 folds for each of 10 candidates, totalling 50 fits\n",
      "[CV] END max_depth=10, max_features=sqrt, min_samples_leaf=5, min_samples_split=5, n_estimators=900; total time=   4.2s\n",
      "[CV] END max_depth=10, max_features=sqrt, min_samples_leaf=5, min_samples_split=5, n_estimators=900; total time=   3.6s\n",
      "[CV] END max_depth=10, max_features=sqrt, min_samples_leaf=5, min_samples_split=5, n_estimators=900; total time=   3.4s\n",
      "[CV] END max_depth=10, max_features=sqrt, min_samples_leaf=5, min_samples_split=5, n_estimators=900; total time=   3.2s\n",
      "[CV] END max_depth=10, max_features=sqrt, min_samples_leaf=5, min_samples_split=5, n_estimators=900; total time=   3.4s\n",
      "[CV] END max_depth=15, max_features=sqrt, min_samples_leaf=2, min_samples_split=10, n_estimators=1100; total time=   5.4s\n",
      "[CV] END max_depth=15, max_features=sqrt, min_samples_leaf=2, min_samples_split=10, n_estimators=1100; total time=   5.2s\n",
      "[CV] END max_depth=15, max_features=sqrt, min_samples_leaf=2, min_samples_split=10, n_estimators=1100; total time=   5.6s\n",
      "[CV] END max_depth=15, max_features=sqrt, min_samples_leaf=2, min_samples_split=10, n_estimators=1100; total time=   6.2s\n",
      "[CV] END max_depth=15, max_features=sqrt, min_samples_leaf=2, min_samples_split=10, n_estimators=1100; total time=   5.4s\n",
      "[CV] END max_depth=15, max_features=auto, min_samples_leaf=5, min_samples_split=100, n_estimators=300; total time=   0.0s\n",
      "[CV] END max_depth=15, max_features=auto, min_samples_leaf=5, min_samples_split=100, n_estimators=300; total time=   0.0s\n",
      "[CV] END max_depth=15, max_features=auto, min_samples_leaf=5, min_samples_split=100, n_estimators=300; total time=   0.0s\n",
      "[CV] END max_depth=15, max_features=auto, min_samples_leaf=5, min_samples_split=100, n_estimators=300; total time=   0.0s\n",
      "[CV] END max_depth=15, max_features=auto, min_samples_leaf=5, min_samples_split=100, n_estimators=300; total time=   0.0s\n",
      "[CV] END max_depth=15, max_features=auto, min_samples_leaf=5, min_samples_split=5, n_estimators=400; total time=   0.0s\n",
      "[CV] END max_depth=15, max_features=auto, min_samples_leaf=5, min_samples_split=5, n_estimators=400; total time=   0.0s\n",
      "[CV] END max_depth=15, max_features=auto, min_samples_leaf=5, min_samples_split=5, n_estimators=400; total time=   0.0s\n",
      "[CV] END max_depth=15, max_features=auto, min_samples_leaf=5, min_samples_split=5, n_estimators=400; total time=   0.0s\n",
      "[CV] END max_depth=15, max_features=auto, min_samples_leaf=5, min_samples_split=5, n_estimators=400; total time=   0.0s\n",
      "[CV] END max_depth=20, max_features=auto, min_samples_leaf=10, min_samples_split=5, n_estimators=700; total time=   0.0s\n",
      "[CV] END max_depth=20, max_features=auto, min_samples_leaf=10, min_samples_split=5, n_estimators=700; total time=   0.0s\n",
      "[CV] END max_depth=20, max_features=auto, min_samples_leaf=10, min_samples_split=5, n_estimators=700; total time=   0.0s\n",
      "[CV] END max_depth=20, max_features=auto, min_samples_leaf=10, min_samples_split=5, n_estimators=700; total time=   0.0s\n",
      "[CV] END max_depth=20, max_features=auto, min_samples_leaf=10, min_samples_split=5, n_estimators=700; total time=   0.0s\n",
      "[CV] END max_depth=25, max_features=sqrt, min_samples_leaf=1, min_samples_split=2, n_estimators=1000; total time=   9.7s\n",
      "[CV] END max_depth=25, max_features=sqrt, min_samples_leaf=1, min_samples_split=2, n_estimators=1000; total time=   9.8s\n",
      "[CV] END max_depth=25, max_features=sqrt, min_samples_leaf=1, min_samples_split=2, n_estimators=1000; total time=   9.6s\n",
      "[CV] END max_depth=25, max_features=sqrt, min_samples_leaf=1, min_samples_split=2, n_estimators=1000; total time=   9.6s\n",
      "[CV] END max_depth=25, max_features=sqrt, min_samples_leaf=1, min_samples_split=2, n_estimators=1000; total time=  10.2s\n",
      "[CV] END max_depth=5, max_features=sqrt, min_samples_leaf=10, min_samples_split=15, n_estimators=1100; total time=   2.7s\n",
      "[CV] END max_depth=5, max_features=sqrt, min_samples_leaf=10, min_samples_split=15, n_estimators=1100; total time=   3.6s\n",
      "[CV] END max_depth=5, max_features=sqrt, min_samples_leaf=10, min_samples_split=15, n_estimators=1100; total time=   2.8s\n",
      "[CV] END max_depth=5, max_features=sqrt, min_samples_leaf=10, min_samples_split=15, n_estimators=1100; total time=   2.7s\n",
      "[CV] END max_depth=5, max_features=sqrt, min_samples_leaf=10, min_samples_split=15, n_estimators=1100; total time=   2.8s\n",
      "[CV] END max_depth=15, max_features=sqrt, min_samples_leaf=1, min_samples_split=15, n_estimators=300; total time=   1.4s\n",
      "[CV] END max_depth=15, max_features=sqrt, min_samples_leaf=1, min_samples_split=15, n_estimators=300; total time=   1.4s\n",
      "[CV] END max_depth=15, max_features=sqrt, min_samples_leaf=1, min_samples_split=15, n_estimators=300; total time=   1.4s\n",
      "[CV] END max_depth=15, max_features=sqrt, min_samples_leaf=1, min_samples_split=15, n_estimators=300; total time=   1.4s\n",
      "[CV] END max_depth=15, max_features=sqrt, min_samples_leaf=1, min_samples_split=15, n_estimators=300; total time=   1.4s\n",
      "[CV] END max_depth=5, max_features=sqrt, min_samples_leaf=2, min_samples_split=10, n_estimators=700; total time=   1.7s\n",
      "[CV] END max_depth=5, max_features=sqrt, min_samples_leaf=2, min_samples_split=10, n_estimators=700; total time=   1.8s\n",
      "[CV] END max_depth=5, max_features=sqrt, min_samples_leaf=2, min_samples_split=10, n_estimators=700; total time=   1.7s\n",
      "[CV] END max_depth=5, max_features=sqrt, min_samples_leaf=2, min_samples_split=10, n_estimators=700; total time=   1.8s\n",
      "[CV] END max_depth=5, max_features=sqrt, min_samples_leaf=2, min_samples_split=10, n_estimators=700; total time=   1.7s\n",
      "[CV] END max_depth=20, max_features=auto, min_samples_leaf=1, min_samples_split=15, n_estimators=700; total time=   0.0s\n",
      "[CV] END max_depth=20, max_features=auto, min_samples_leaf=1, min_samples_split=15, n_estimators=700; total time=   0.0s\n",
      "[CV] END max_depth=20, max_features=auto, min_samples_leaf=1, min_samples_split=15, n_estimators=700; total time=   0.0s\n",
      "[CV] END max_depth=20, max_features=auto, min_samples_leaf=1, min_samples_split=15, n_estimators=700; total time=   0.0s\n",
      "[CV] END max_depth=20, max_features=auto, min_samples_leaf=1, min_samples_split=15, n_estimators=700; total time=   0.0s\n"
     ]
    },
    {
     "data": {
      "text/html": [
       "<style>#sk-container-id-3 {color: black;}#sk-container-id-3 pre{padding: 0;}#sk-container-id-3 div.sk-toggleable {background-color: white;}#sk-container-id-3 label.sk-toggleable__label {cursor: pointer;display: block;width: 100%;margin-bottom: 0;padding: 0.3em;box-sizing: border-box;text-align: center;}#sk-container-id-3 label.sk-toggleable__label-arrow:before {content: \"▸\";float: left;margin-right: 0.25em;color: #696969;}#sk-container-id-3 label.sk-toggleable__label-arrow:hover:before {color: black;}#sk-container-id-3 div.sk-estimator:hover label.sk-toggleable__label-arrow:before {color: black;}#sk-container-id-3 div.sk-toggleable__content {max-height: 0;max-width: 0;overflow: hidden;text-align: left;background-color: #f0f8ff;}#sk-container-id-3 div.sk-toggleable__content pre {margin: 0.2em;color: black;border-radius: 0.25em;background-color: #f0f8ff;}#sk-container-id-3 input.sk-toggleable__control:checked~div.sk-toggleable__content {max-height: 200px;max-width: 100%;overflow: auto;}#sk-container-id-3 input.sk-toggleable__control:checked~label.sk-toggleable__label-arrow:before {content: \"▾\";}#sk-container-id-3 div.sk-estimator input.sk-toggleable__control:checked~label.sk-toggleable__label {background-color: #d4ebff;}#sk-container-id-3 div.sk-label input.sk-toggleable__control:checked~label.sk-toggleable__label {background-color: #d4ebff;}#sk-container-id-3 input.sk-hidden--visually {border: 0;clip: rect(1px 1px 1px 1px);clip: rect(1px, 1px, 1px, 1px);height: 1px;margin: -1px;overflow: hidden;padding: 0;position: absolute;width: 1px;}#sk-container-id-3 div.sk-estimator {font-family: monospace;background-color: #f0f8ff;border: 1px dotted black;border-radius: 0.25em;box-sizing: border-box;margin-bottom: 0.5em;}#sk-container-id-3 div.sk-estimator:hover {background-color: #d4ebff;}#sk-container-id-3 div.sk-parallel-item::after {content: \"\";width: 100%;border-bottom: 1px solid gray;flex-grow: 1;}#sk-container-id-3 div.sk-label:hover label.sk-toggleable__label {background-color: #d4ebff;}#sk-container-id-3 div.sk-serial::before {content: \"\";position: absolute;border-left: 1px solid gray;box-sizing: border-box;top: 0;bottom: 0;left: 50%;z-index: 0;}#sk-container-id-3 div.sk-serial {display: flex;flex-direction: column;align-items: center;background-color: white;padding-right: 0.2em;padding-left: 0.2em;position: relative;}#sk-container-id-3 div.sk-item {position: relative;z-index: 1;}#sk-container-id-3 div.sk-parallel {display: flex;align-items: stretch;justify-content: center;background-color: white;position: relative;}#sk-container-id-3 div.sk-item::before, #sk-container-id-3 div.sk-parallel-item::before {content: \"\";position: absolute;border-left: 1px solid gray;box-sizing: border-box;top: 0;bottom: 0;left: 50%;z-index: -1;}#sk-container-id-3 div.sk-parallel-item {display: flex;flex-direction: column;z-index: 1;position: relative;background-color: white;}#sk-container-id-3 div.sk-parallel-item:first-child::after {align-self: flex-end;width: 50%;}#sk-container-id-3 div.sk-parallel-item:last-child::after {align-self: flex-start;width: 50%;}#sk-container-id-3 div.sk-parallel-item:only-child::after {width: 0;}#sk-container-id-3 div.sk-dashed-wrapped {border: 1px dashed gray;margin: 0 0.4em 0.5em 0.4em;box-sizing: border-box;padding-bottom: 0.4em;background-color: white;}#sk-container-id-3 div.sk-label label {font-family: monospace;font-weight: bold;display: inline-block;line-height: 1.2em;}#sk-container-id-3 div.sk-label-container {text-align: center;}#sk-container-id-3 div.sk-container {/* jupyter's `normalize.less` sets `[hidden] { display: none; }` but bootstrap.min.css set `[hidden] { display: none !important; }` so we also need the `!important` here to be able to override the default hidden behavior on the sphinx rendered scikit-learn.org. See: https://github.com/scikit-learn/scikit-learn/issues/21755 */display: inline-block !important;position: relative;}#sk-container-id-3 div.sk-text-repr-fallback {display: none;}</style><div id=\"sk-container-id-3\" class=\"sk-top-container\"><div class=\"sk-text-repr-fallback\"><pre>RandomizedSearchCV(cv=5, estimator=RandomForestRegressor(), n_jobs=1,\n",
       "                   param_distributions={&#x27;max_depth&#x27;: [5, 10, 15, 20, 25, 30],\n",
       "                                        &#x27;max_features&#x27;: [&#x27;auto&#x27;, &#x27;sqrt&#x27;],\n",
       "                                        &#x27;min_samples_leaf&#x27;: [1, 2, 5, 10],\n",
       "                                        &#x27;min_samples_split&#x27;: [2, 5, 10, 15,\n",
       "                                                              100],\n",
       "                                        &#x27;n_estimators&#x27;: [100, 200, 300, 400,\n",
       "                                                         500, 600, 700, 800,\n",
       "                                                         900, 1000, 1100,\n",
       "                                                         1200]},\n",
       "                   random_state=42, scoring=&#x27;neg_mean_squared_error&#x27;,\n",
       "                   verbose=2)</pre><b>In a Jupyter environment, please rerun this cell to show the HTML representation or trust the notebook. <br />On GitHub, the HTML representation is unable to render, please try loading this page with nbviewer.org.</b></div><div class=\"sk-container\" hidden><div class=\"sk-item sk-dashed-wrapped\"><div class=\"sk-label-container\"><div class=\"sk-label sk-toggleable\"><input class=\"sk-toggleable__control sk-hidden--visually\" id=\"sk-estimator-id-3\" type=\"checkbox\" ><label for=\"sk-estimator-id-3\" class=\"sk-toggleable__label sk-toggleable__label-arrow\">RandomizedSearchCV</label><div class=\"sk-toggleable__content\"><pre>RandomizedSearchCV(cv=5, estimator=RandomForestRegressor(), n_jobs=1,\n",
       "                   param_distributions={&#x27;max_depth&#x27;: [5, 10, 15, 20, 25, 30],\n",
       "                                        &#x27;max_features&#x27;: [&#x27;auto&#x27;, &#x27;sqrt&#x27;],\n",
       "                                        &#x27;min_samples_leaf&#x27;: [1, 2, 5, 10],\n",
       "                                        &#x27;min_samples_split&#x27;: [2, 5, 10, 15,\n",
       "                                                              100],\n",
       "                                        &#x27;n_estimators&#x27;: [100, 200, 300, 400,\n",
       "                                                         500, 600, 700, 800,\n",
       "                                                         900, 1000, 1100,\n",
       "                                                         1200]},\n",
       "                   random_state=42, scoring=&#x27;neg_mean_squared_error&#x27;,\n",
       "                   verbose=2)</pre></div></div></div><div class=\"sk-parallel\"><div class=\"sk-parallel-item\"><div class=\"sk-item\"><div class=\"sk-label-container\"><div class=\"sk-label sk-toggleable\"><input class=\"sk-toggleable__control sk-hidden--visually\" id=\"sk-estimator-id-4\" type=\"checkbox\" ><label for=\"sk-estimator-id-4\" class=\"sk-toggleable__label sk-toggleable__label-arrow\">estimator: RandomForestRegressor</label><div class=\"sk-toggleable__content\"><pre>RandomForestRegressor()</pre></div></div></div><div class=\"sk-serial\"><div class=\"sk-item\"><div class=\"sk-estimator sk-toggleable\"><input class=\"sk-toggleable__control sk-hidden--visually\" id=\"sk-estimator-id-5\" type=\"checkbox\" ><label for=\"sk-estimator-id-5\" class=\"sk-toggleable__label sk-toggleable__label-arrow\">RandomForestRegressor</label><div class=\"sk-toggleable__content\"><pre>RandomForestRegressor()</pre></div></div></div></div></div></div></div></div></div></div>"
      ],
      "text/plain": [
       "RandomizedSearchCV(cv=5, estimator=RandomForestRegressor(), n_jobs=1,\n",
       "                   param_distributions={'max_depth': [5, 10, 15, 20, 25, 30],\n",
       "                                        'max_features': ['auto', 'sqrt'],\n",
       "                                        'min_samples_leaf': [1, 2, 5, 10],\n",
       "                                        'min_samples_split': [2, 5, 10, 15,\n",
       "                                                              100],\n",
       "                                        'n_estimators': [100, 200, 300, 400,\n",
       "                                                         500, 600, 700, 800,\n",
       "                                                         900, 1000, 1100,\n",
       "                                                         1200]},\n",
       "                   random_state=42, scoring='neg_mean_squared_error',\n",
       "                   verbose=2)"
      ]
     },
     "execution_count": 206,
     "metadata": {},
     "output_type": "execute_result"
    }
   ],
   "source": [
    "# Random search of parameters, using 5 fold cross validation, \n",
    "# search across 100 different combinations\n",
    "rf_random = RandomizedSearchCV(estimator = reg_rf, param_distributions = random_grid,scoring='neg_mean_squared_error', n_iter = 10, cv = 5, verbose=2, random_state=42, n_jobs = 1)\n",
    "\n",
    "\n",
    "rf_random.fit(X_train_imputed,y_train)"
   ]
  },
  {
   "cell_type": "code",
   "execution_count": 208,
   "id": "85159057-e707-46ec-8974-6e510ec1ac96",
   "metadata": {},
   "outputs": [
    {
     "data": {
      "text/plain": [
       "{'n_estimators': 1000,\n",
       " 'min_samples_split': 2,\n",
       " 'min_samples_leaf': 1,\n",
       " 'max_features': 'sqrt',\n",
       " 'max_depth': 25}"
      ]
     },
     "execution_count": 208,
     "metadata": {},
     "output_type": "execute_result"
    }
   ],
   "source": [
    "rf_random.best_params_"
   ]
  },
  {
   "cell_type": "code",
   "execution_count": 212,
   "id": "48680c31-0534-4f77-835f-3b5505508646",
   "metadata": {},
   "outputs": [],
   "source": [
    "prediction = rf_random.predict(X_test_imputed)"
   ]
  },
  {
   "cell_type": "code",
   "execution_count": 214,
   "id": "7e4ed7b2-a4af-4ab2-9e40-362414dcb1aa",
   "metadata": {},
   "outputs": [
    {
     "data": {
      "image/png": "[encoded data removed]",
      "text/plain": [
       "<Figure size 800x800 with 1 Axes>"
      ]
     },
     "metadata": {},
     "output_type": "display_data"
    }
   ],
   "source": [
    "plt.figure(figsize = (8,8))\n",
    "sns.distplot(y_test-prediction)\n",
    "plt.show()"
   ]
  },
  {
   "cell_type": "code",
   "execution_count": 216,
   "id": "4061875c-cebc-431c-a3fe-73a8bc671fa4",
   "metadata": {},
   "outputs": [
    {
     "data": {
      "image/png": "[encoded data removed]",
      "text/plain": [
       "<Figure size 800x800 with 1 Axes>"
      ]
     },
     "metadata": {},
     "output_type": "display_data"
    }
   ],
   "source": [
    "plt.figure(figsize = (8,8))\n",
    "plt.scatter(y_test, prediction, alpha = 0.5)\n",
    "plt.xlabel(\"y_test\")\n",
    "plt.ylabel(\"y_pred\")\n",
    "plt.show()"
   ]
  },
  {
   "cell_type": "code",
   "execution_count": 218,
   "id": "4c6a15f3-26ee-42e9-bf24-b72f520362c5",
   "metadata": {},
   "outputs": [
    {
     "name": "stdout",
     "output_type": "stream",
     "text": [
      "MAE: 1696.4963259126662\n",
      "MSE: 6147966.331509952\n",
      "RMSE: 2479.509292483082\n"
     ]
    }
   ],
   "source": [
    "print('MAE:', metrics.mean_absolute_error(y_test, prediction))\n",
    "print('MSE:', metrics.mean_squared_error(y_test, prediction))\n",
    "print('RMSE:', np.sqrt(metrics.mean_squared_error(y_test, prediction)))"
   ]
  },
  {
   "cell_type": "code",
   "execution_count": null,
   "id": "938598fe-dcd9-4b3b-9300-4913c8cc8e09",
   "metadata": {},
   "outputs": [],
   "source": []
  }
 ],
 "metadata": {
  "kernelspec": {
   "display_name": "anaconda-ai-2024.04-py310",
   "language": "python",
   "name": "conda-env-anaconda-ai-2024.04-py310-py"
  },
  "language_info": {
   "codemirror_mode": {
    "name": "ipython",
    "version": 3
   },
   "file_extension": ".py",
   "mimetype": "text/x-python",
   "name": "python",
   "nbconvert_exporter": "python",
   "pygments_lexer": "ipython3",
   "version": "3.10.13"
  }
 },
 "nbformat": 4,
 "nbformat_minor": 5
}
